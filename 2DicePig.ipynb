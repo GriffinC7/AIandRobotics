{
 "cells": [
  {
   "cell_type": "code",
   "execution_count": 18,
   "id": "85e62547-dfd7-4f76-a044-760a4db491ac",
   "metadata": {},
   "outputs": [],
   "source": [
    "from Game import *"
   ]
  },
  {
   "cell_type": "markdown",
   "id": "02ab3888-2e6d-46e5-a717-92c9edeb82c4",
   "metadata": {},
   "source": [
    "* Two Dice Pig\n",
    "* Same rules as Pig except:\n",
    "    * Two standard dice are rolled\n",
    "    * If neither shows a 1, their sum is added to the turn total.\n",
    "    * If a single 1 is rolled, the player scores nothing and the turn ends.\n",
    "    * If two 1s are rolled, the player’s entire score is lost, and the turn ends.\n",
    "    * If a double is rolled, the point total is added to the turn total as with any roll but the player must roll again"
   ]
  },
  {
   "cell_type": "code",
   "execution_count": 19,
   "id": "e4c9863b-d6ec-4fa4-8c27-1726e88dfbc3",
   "metadata": {},
   "outputs": [],
   "source": [
    "def initial_state():\n",
    "    # player 1 score, player 2 score, turn score, last dice1 roll, last dice2 roll\n",
    "    return [0,0,0,0,0]"
   ]
  },
  {
   "cell_type": "code",
   "execution_count": 20,
   "id": "b7726142-5ce3-4568-92af-f1f63d925682",
   "metadata": {},
   "outputs": [],
   "source": [
    "def valid_moves(state,player):\n",
    "    player1_total,player2_total,turn_total,last_die1,last_die2=state\n",
    "    if state[3]==state[4]:\n",
    "        return(['roll'])\n",
    "    else:\n",
    "        return(['hold','roll'])"
   ]
  },
  {
   "cell_type": "code",
   "execution_count": 21,
   "id": "caff4a77-a25b-4c0b-adfb-fdf1ca20e4d2",
   "metadata": {},
   "outputs": [],
   "source": [
    "def show_state(state):\n",
    "    print(\"Player 1 score:\",state[0])\n",
    "    print(\"Player 2 score:\",state[1])    \n",
    "    print(\"Turn score:\",state[2])    \n",
    "    print(\"Last die (#1):\",state[3])\n",
    "    print(\"Last die (#2):\",state[4])\n",
    "    print('___________________')"
   ]
  },
  {
   "cell_type": "code",
   "execution_count": 22,
   "id": "3fc496b4-b09f-4305-a8fd-ea4292c7eb86",
   "metadata": {},
   "outputs": [],
   "source": [
    "def win_status(state,player):\n",
    "    goal=50\n",
    "    \n",
    "    player1_total,player2_total,turn_total,last_die1,last_die2=state\n",
    "    \n",
    "    if player==1:\n",
    "        if player1_total + turn_total>=goal:\n",
    "            return \"win\"\n",
    "        \n",
    "    elif player==2:\n",
    "        if player2_total + turn_total>=goal:\n",
    "            return \"win\"\n",
    "    else:\n",
    "        raise ValueError(\"You can't get there from here.\")"
   ]
  },
  {
   "cell_type": "code",
   "execution_count": 23,
   "id": "046ff52a-ec15-461a-afc9-9031fcaec53c",
   "metadata": {},
   "outputs": [],
   "source": [
    "def update_state(state,player,move):\n",
    "    new_state=state\n",
    "    player1_total,player2_total,turn_total,last_die1,last_die2=state\n",
    "    \n",
    "    \n",
    "    if move==\"hold\":\n",
    "        if player==1:\n",
    "            new_state[0]=player1_total+turn_total\n",
    "        else:\n",
    "            new_state[1]=player2_total+turn_total\n",
    "        \n",
    "        new_state[2]=0  # reset the turn total\n",
    "        new_state[3]=0  # this resets the first die\n",
    "        new_state[4]=0  # this resets the second die\n",
    "        \n",
    "    elif move==\"roll\":\n",
    "        dice1=random.randint(1,6)  # this generates a value from 1-6\n",
    "        dice2=random.randint(1,6)  # this generates a value from 1-6\n",
    "        \n",
    "        new_state[3]=dice1\n",
    "        new_state[4]=dice2\n",
    "        \n",
    "        if dice1==1 and dice2 !=1:\n",
    "            new_state[2]=0  # reset the turn total\n",
    "        elif dice1 !=1 and dice2==1:\n",
    "            new_state[2]=0  # reset the turn total\n",
    "        elif dice1==1 and dice2==1:\n",
    "            if player==1:\n",
    "                new_state[0]=0 # sets player 1 score back to 0 (or player1_total)\n",
    "            else:\n",
    "                new_state[1]=0 # sets player 2 score back to 0 (or player2_total)\n",
    "        else:\n",
    "            new_state[2]=turn_total+dice1+dice2  # update the turn total\n",
    "        \n",
    "    else:\n",
    "        raise ValueError(\"You can't get there from here.\")\n",
    "        \n",
    "    \n",
    "    return new_state"
   ]
  },
  {
   "cell_type": "code",
   "execution_count": 24,
   "id": "0392641f-c462-4885-9fb7-79107c22138f",
   "metadata": {},
   "outputs": [],
   "source": [
    "def repeat_move(state,player,move):\n",
    "    player1_total,player2_total,turn_total,last_die1,last_die2=state\n",
    "\n",
    "    # check for die roll of 1 or 0\n",
    "    # check for turn total > 0\n",
    "    if last_die1==1 or last_die2==1 or last_die1==0 or last_die2==0:\n",
    "        return False\n",
    "    else:\n",
    "        return True"
   ]
  },
  {
   "cell_type": "code",
   "execution_count": 25,
   "id": "2d39d79c-17b0-4638-988a-076348442156",
   "metadata": {},
   "outputs": [],
   "source": [
    "def human_move(state,player):   \n",
    "    \n",
    "    move=input(\"Roll or Hold?\").lower()\n",
    "    \n",
    "    if move[0]=='r':\n",
    "        return \"roll\"\n",
    "    else:\n",
    "        return \"hold\"\n",
    "\n",
    "human_agent=Agent(human_move)  "
   ]
  },
  {
   "cell_type": "code",
   "execution_count": 26,
   "id": "df94c556-8f58-4798-a6af-b1cd8686ab45",
   "metadata": {},
   "outputs": [],
   "source": [
    "def random_move(state,player):    \n",
    "    moves=valid_moves(state,player)\n",
    "    return random.choice(moves)\n",
    " \n",
    "random_agent=Agent(random_move)   "
   ]
  },
  {
   "cell_type": "code",
   "execution_count": 27,
   "id": "d0447c62-86d8-43ed-9e31-e4f682f78b27",
   "metadata": {},
   "outputs": [],
   "source": [
    "from Game.minimax import *\n",
    "def minimax_move(state,player):\n",
    "    values,moves=minimax_values(state,player,display=True)#set max depth\n",
    "    \n",
    "    return top_choice(moves,values)\n",
    "    \n",
    "minimax_agent=Agent(minimax_move)"
   ]
  },
  {
   "cell_type": "code",
   "execution_count": 28,
   "id": "2a18a1a2-2b45-472e-9c17-65465be3c406",
   "metadata": {},
   "outputs": [],
   "source": [
    "def skittles_move(state,player,info):\n",
    "    T=info.T\n",
    "    last_state=info.last_state\n",
    "    last_action=info.last_action\n",
    "    \n",
    "    \n",
    "    if state not in T:\n",
    "        actions=valid_moves(state,player)\n",
    "        T[state]=Table()\n",
    "        for action in actions:\n",
    "            T[state][action]=3  # number of skittles\n",
    "        \n",
    "    \n",
    "    move=weighted_choice(T[state])\n",
    "    \n",
    "    if move is None:  # can't win from this state\n",
    "        if not last_state is None:\n",
    "            T[last_state][last_action]-=1   # take away a skittle\n",
    "            if T[last_state][last_action]<0:\n",
    "                T[last_state][last_action]=0\n",
    "    \n",
    "        move=random_move(state,player)\n",
    "    \n",
    "    return move\n",
    "\n",
    "def skittles_after(status,player,info):  # this is called after the game is over\n",
    "    T=info.T\n",
    "    last_state=info.last_state\n",
    "    last_action=info.last_action\n",
    "\n",
    "    if status=='lose':\n",
    "        T[last_state][last_action]-=1   # take away a skittle\n",
    "        if T[last_state][last_action]<0:\n",
    "            T[last_state][last_action]=0"
   ]
  },
  {
   "cell_type": "code",
   "execution_count": 29,
   "id": "8bfdec4a-f8b3-4cee-8584-a628e0575205",
   "metadata": {},
   "outputs": [],
   "source": [
    "skittles_agent1=Agent(skittles_move)\n",
    "skittles_agent1.T=Table()\n",
    "skittles_agent1.post=skittles_after\n",
    "\n",
    "skittles_agent2=Agent(skittles_move)\n",
    "skittles_agent2.T=Table()\n",
    "skittles_agent2.post=skittles_after"
   ]
  },
  {
   "cell_type": "code",
   "execution_count": 30,
   "id": "90681e35-e0e6-450b-9189-e1ab9151c98e",
   "metadata": {},
   "outputs": [],
   "source": [
    "def Q_move(state,player,info):\n",
    "    Q=info.Q\n",
    "    last_state=info.last_state\n",
    "    last_action=info.last_action\n",
    "    learning=info.learning\n",
    "    \n",
    "    α=info.α  # learning rate\n",
    "    ϵ=info.ϵ  # how often to take a random move\n",
    "    γ=info.γ  # memory constant -- how quickly does the table update back in time (earlier in the game)\n",
    "    \n",
    "    # \\alpha <hit tab>    α\n",
    "    # \\epsilon <hit tab>  ϵ\n",
    "    # \\gamma <hit tab>    γ\n",
    "    \n",
    "    if state not in Q:\n",
    "        actions=valid_moves(state,player)\n",
    "        Q[state]=Table()\n",
    "        for action in actions:\n",
    "            Q[state][action]=0  # initial value of table\n",
    "    \n",
    "    if learning:\n",
    "        if random.random()<ϵ:  # take a random move occasionally to explore the environment\n",
    "            move=random_move(state,player)\n",
    "        else:\n",
    "            move=top_choice(Q[state])\n",
    "    else:\n",
    "        move=top_choice(Q[state])\n",
    "    \n",
    "    if not last_action is None:  # not the first move\n",
    "        reward=0\n",
    "        \n",
    "        # learn\n",
    "        if learning:\n",
    "            Q[last_state][last_action]+=α*(reward +\n",
    "                        γ*max([Q[state][a] for a in Q[state]]) - Q[last_state][last_action])\n",
    "    \n",
    "    return move"
   ]
  },
  {
   "cell_type": "code",
   "execution_count": 31,
   "id": "07feaf57-f500-4dbc-ad79-b28d5f076f5a",
   "metadata": {},
   "outputs": [],
   "source": [
    "def Q_after(status,player,info):\n",
    "    Q=info.Q\n",
    "    last_state=info.last_state\n",
    "    last_action=info.last_action\n",
    "    learning=info.learning\n",
    "    \n",
    "    α=info.α  # learning rate\n",
    "    ϵ=info.ϵ  # how often to take a random move\n",
    "    γ=info.γ  # memory constant -- how quickly does the table update back in time (earlier in the game)\n",
    "    \n",
    "    # \\alpha <hit tab>    α\n",
    "    # \\epsilon <hit tab>  ϵ\n",
    "    # \\gamma <hit tab>    γ\n",
    "\n",
    "    if status=='lose':\n",
    "        reward=-1\n",
    "    elif status=='win':\n",
    "        reward=1\n",
    "    elif status=='stalemate':\n",
    "        reward=.5 # value stalemate a little closer to a win\n",
    "    else:\n",
    "        reward=0\n",
    "    \n",
    "    \n",
    "    if learning:\n",
    "        Q[last_state][last_action]+=α*(reward - Q[last_state][last_action])"
   ]
  },
  {
   "cell_type": "code",
   "execution_count": 32,
   "id": "035aee33-5857-4025-b21a-23488361ce52",
   "metadata": {},
   "outputs": [],
   "source": [
    "Q1_agent=Agent(Q_move)\n",
    "Q1_agent.post=Q_after\n",
    "Q1_agent.Q=Table()  # makes an empty table\n",
    "Q1_agent.learning=True\n",
    "\n",
    "Q1_agent.α=0.3  # learning rate\n",
    "Q1_agent.ϵ=0.1  # how often to take a random move\n",
    "Q1_agent.γ=0.9  # memory constant -- how quickly does the table update back in time (earlier in the game)"
   ]
  },
  {
   "cell_type": "code",
   "execution_count": 33,
   "id": "2c505227-d900-4f0c-8f95-fc99332f4606",
   "metadata": {},
   "outputs": [],
   "source": [
    "Q2_agent=Agent(Q_move)\n",
    "Q2_agent.post=Q_after\n",
    "Q2_agent.Q=Table()  # makes an empty table\n",
    "Q2_agent.learning=True\n",
    "\n",
    "Q2_agent.α=0.3  # learning rate\n",
    "Q2_agent.ϵ=0.1  # how often to take a random move\n",
    "Q2_agent.γ=0.9  # memory constant -- how quickly does the table update back in time (earlier in the game)"
   ]
  },
  {
   "cell_type": "raw",
   "id": "f6dc8243-cc51-42b8-9ae4-51a924732348",
   "metadata": {
    "tags": []
   },
   "source": [
    "g=Game()\n",
    "g.run(random_agent, random_agent)"
   ]
  },
  {
   "cell_type": "code",
   "execution_count": null,
   "id": "27358415-6274-4726-8af6-b004972c26b3",
   "metadata": {
    "tags": []
   },
   "outputs": [],
   "source": []
  },
  {
   "cell_type": "code",
   "execution_count": null,
   "id": "d3c3cf61-1dea-4f49-9bcc-80b3d4a69804",
   "metadata": {},
   "outputs": [],
   "source": []
  }
 ],
 "metadata": {
  "kernelspec": {
   "display_name": "Python 3 (ipykernel)",
   "language": "python",
   "name": "python3"
  },
  "language_info": {
   "codemirror_mode": {
    "name": "ipython",
    "version": 3
   },
   "file_extension": ".py",
   "mimetype": "text/x-python",
   "name": "python",
   "nbconvert_exporter": "python",
   "pygments_lexer": "ipython3",
   "version": "3.9.12"
  }
 },
 "nbformat": 4,
 "nbformat_minor": 5
}
