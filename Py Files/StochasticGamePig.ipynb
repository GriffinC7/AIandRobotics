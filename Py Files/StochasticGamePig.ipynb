{
 "cells": [
  {
   "cell_type": "code",
   "execution_count": 8,
   "id": "3723de4d-e378-43b1-aa14-4751e2871912",
   "metadata": {},
   "outputs": [
    {
     "name": "stdout",
     "output_type": "stream",
     "text": [
      "Version:  0.2.41\n"
     ]
    }
   ],
   "source": [
    "from Game import *"
   ]
  },
  {
   "cell_type": "code",
   "execution_count": 9,
   "id": "0464528b-2b73-425a-ae78-6f7521a0a570",
   "metadata": {},
   "outputs": [],
   "source": [
    "def initial_state():\n",
    "    # player 1 score, player 2 score, turn score, last dice roll\n",
    "    return [0,0,0,0]"
   ]
  },
  {
   "cell_type": "code",
   "execution_count": 10,
   "id": "64c0e5ef-0b7e-44da-a119-aada70b11314",
   "metadata": {},
   "outputs": [],
   "source": [
    "def valid_moves(state,player):\n",
    "    return [\"hold\",\"roll\"]"
   ]
  },
  {
   "cell_type": "code",
   "execution_count": 11,
   "id": "aa0d5bb6-2f9f-4eb6-ba13-27d8fe3e2589",
   "metadata": {},
   "outputs": [],
   "source": [
    "def show_state(state):\n",
    "    print(\"Player 1 score:\",state[0])\n",
    "    print(\"Player 2 score:\",state[1])    \n",
    "    print(\"Turn score:\",state[2])    \n",
    "    print(\"Last die:\",state[3])    "
   ]
  },
  {
   "cell_type": "code",
   "execution_count": 12,
   "id": "8d540237-d42b-44d5-9c7e-f5a83558fe80",
   "metadata": {},
   "outputs": [],
   "source": [
    "def win_status(state,player):\n",
    "    goal=21\n",
    "    \n",
    "    player1_total,player2_total,turn_total,last_die=state\n",
    "    \n",
    "    if player==1:\n",
    "        if player1_total + turn_total>=goal:\n",
    "            return \"win\"\n",
    "        \n",
    "    elif player==2:\n",
    "        if player2_total + turn_total>=goal:\n",
    "            return \"win\"\n",
    "    else:\n",
    "        raise ValueError(\"You can't get there from here.\")"
   ]
  },
  {
   "cell_type": "code",
   "execution_count": 13,
   "id": "a144a729-4319-45a7-af35-cb90459f9acc",
   "metadata": {},
   "outputs": [],
   "source": [
    "def update_state(state,player,move):\n",
    "    new_state=state\n",
    "    player1_total,player2_total,turn_total,last_die=state\n",
    "    \n",
    "    \n",
    "    if move==\"hold\":\n",
    "        if player==1:\n",
    "            new_state[0]=player1_total+turn_total\n",
    "        else:\n",
    "            new_state[1]=player2_total+turn_total\n",
    "        \n",
    "        new_state[2]=0  # reset the turn total\n",
    "        new_state[3]=0  # this resets the last die\n",
    "        \n",
    "    elif move==\"roll\":\n",
    "        dice=random.randint(1,6)  # this generates a value from 1-6\n",
    "        \n",
    "        new_state[3]=dice\n",
    "        if dice==1:\n",
    "            new_state[2]=0  # reset the turn total\n",
    "        else:\n",
    "            new_state[2]=turn_total+dice  # update the turn total\n",
    "        \n",
    "    else:\n",
    "        raise ValueError(\"You can't get there from here.\")\n",
    "        \n",
    "    \n",
    "    return new_state"
   ]
  },
  {
   "cell_type": "code",
   "execution_count": 14,
   "id": "84e5eb57-8d64-428d-96b8-3d824bec925b",
   "metadata": {},
   "outputs": [],
   "source": [
    "def repeat_move(state,player,move):\n",
    "    player1_total,player2_total,turn_total,last_die=state\n",
    "\n",
    "    # check for die roll of 1 or 0\n",
    "    # check for turn total > 0\n",
    "    \n",
    "    if last_die==0 or last_die==1:\n",
    "        return False\n",
    "    else:\n",
    "        return True"
   ]
  },
  {
   "cell_type": "code",
   "execution_count": 15,
   "id": "20713109-e7e1-4913-bf9d-f854681f3e30",
   "metadata": {},
   "outputs": [],
   "source": [
    "def random_move(state,player):    \n",
    "    moves=valid_moves(state,player)\n",
    "    return random.choice(moves)\n",
    " \n",
    "random_agent=Agent(random_move)    \n"
   ]
  },
  {
   "cell_type": "code",
   "execution_count": 16,
   "id": "205b5217-613e-482d-a0e3-c683fa4a5953",
   "metadata": {},
   "outputs": [],
   "source": [
    "def human_move(state,player):   \n",
    "    \n",
    "    move=input(\"Roll or Hold?\").lower()\n",
    "    \n",
    "    if move[0]=='r':\n",
    "        return \"roll\"\n",
    "    else:\n",
    "        return \"hold\"\n",
    "\n",
    "human_agent=Agent(human_move)    "
   ]
  },
  {
   "cell_type": "code",
   "execution_count": null,
   "id": "c6e68dd1-e792-4209-b149-460bf718a9af",
   "metadata": {},
   "outputs": [
    {
     "name": "stdout",
     "output_type": "stream",
     "text": [
      "====\n",
      "Game  1\n",
      "Player 1 score: 0\n",
      "Player 2 score: 0\n",
      "Turn score: 0\n",
      "Last die: 0\n"
     ]
    },
    {
     "name": "stdin",
     "output_type": "stream",
     "text": [
      "Roll or Hold? r\n"
     ]
    },
    {
     "name": "stdout",
     "output_type": "stream",
     "text": [
      "Player 1 moves roll\n",
      "Player 1 score: 0\n",
      "Player 2 score: 0\n",
      "Turn score: 2\n",
      "Last die: 2\n"
     ]
    }
   ],
   "source": [
    "g=Game()\n",
    "g.run(human_agent,random_agent)"
   ]
  },
  {
   "cell_type": "code",
   "execution_count": null,
   "id": "4ebe2021-04b8-4aae-befa-12e40e9f826b",
   "metadata": {},
   "outputs": [],
   "source": []
  },
  {
   "cell_type": "code",
   "execution_count": null,
   "id": "6b632767-ba37-4e75-b9d0-974e439eae82",
   "metadata": {},
   "outputs": [],
   "source": []
  }
 ],
 "metadata": {
  "kernelspec": {
   "display_name": "Python 3 (ipykernel)",
   "language": "python",
   "name": "python3"
  },
  "language_info": {
   "codemirror_mode": {
    "name": "ipython",
    "version": 3
   },
   "file_extension": ".py",
   "mimetype": "text/x-python",
   "name": "python",
   "nbconvert_exporter": "python",
   "pygments_lexer": "ipython3",
   "version": "3.9.12"
  }
 },
 "nbformat": 4,
 "nbformat_minor": 5
}
