{
 "cells": [
  {
   "cell_type": "code",
   "execution_count": 1,
   "id": "9ccab2f6-3ad2-4518-b157-4f6712b54c8f",
   "metadata": {},
   "outputs": [
    {
     "name": "stdout",
     "output_type": "stream",
     "text": [
      "Version:  0.2.35\n"
     ]
    }
   ],
   "source": [
    "from Game import *"
   ]
  },
  {
   "cell_type": "code",
   "execution_count": 2,
   "id": "2bd11a7e-196e-4199-8725-6c6be7c08f4f",
   "metadata": {},
   "outputs": [],
   "source": [
    "def initial_state():\n",
    "    state=Board(3,3)\n",
    "    \n",
    "    return state"
   ]
  },
  {
   "cell_type": "code",
   "execution_count": 3,
   "id": "94bad1a7-59c4-477e-bd56-df67eba33240",
   "metadata": {},
   "outputs": [],
   "source": [
    "def valid_moves(state,player):\n",
    "    moves = []\n",
    "    \n",
    "    if state[0]==0:\n",
    "        moves.append(0)\n",
    "    if state[1]==0:\n",
    "        moves.append(1)\n",
    "    if state[2]==0:\n",
    "        moves.append(2)\n",
    "        \n",
    "    moves= []\n",
    "    for location in range(9):\n",
    "        if state[location]==0:\n",
    "            moves.append(location)\n",
    "            \n",
    "    return moves"
   ]
  },
  {
   "cell_type": "code",
   "execution_count": 4,
   "id": "ba67fbcc-2380-4ae2-8523-a1d0062a131a",
   "metadata": {},
   "outputs": [
    {
     "name": "stdout",
     "output_type": "stream",
     "text": [
      " 0  0  1 \n",
      " 0  0  0 \n",
      " 0  0  0 \n",
      "\n"
     ]
    },
    {
     "data": {
      "text/plain": [
       "[0, 1, 3, 4, 5, 6, 7, 8]"
      ]
     },
     "execution_count": 4,
     "metadata": {},
     "output_type": "execute_result"
    }
   ],
   "source": [
    "state=Board(3,3)\n",
    "state[2]=1\n",
    "print(state)\n",
    "valid_moves(state,1)"
   ]
  },
  {
   "cell_type": "code",
   "execution_count": 5,
   "id": "e3366812-f30b-40a1-b6ef-c899ff13d87c",
   "metadata": {},
   "outputs": [],
   "source": [
    "def update_state(state,player,move):\n",
    "    new_state=state\n",
    "    \n",
    "    new_state[move]=player\n",
    "    \n",
    "    return new_state"
   ]
  },
  {
   "cell_type": "code",
   "execution_count": 6,
   "id": "fb83513b-c45b-4ada-ba87-e0408a74ff3f",
   "metadata": {},
   "outputs": [],
   "source": [
    "def three_in_a_row(a,b,c,player):\n",
    "    \n",
    "    if a==player and b==player and c==player:\n",
    "        return True\n",
    "    else:\n",
    "        return False\n",
    "    \n",
    "    \n",
    "    \n",
    "def win_status(state,player):\n",
    "    \n",
    "    # 0 1 2\n",
    "    # 3 4 5\n",
    "    # 6 7 8\n",
    "    \n",
    "    if player==1:\n",
    "        other_player=2\n",
    "    else:\n",
    "        other_player=1\n",
    "    \n",
    "    if three_in_a_row(state[0],state[1],state[2],player):\n",
    "        return 'win'\n",
    "    if three_in_a_row(state[3],state[4],state[5],player):\n",
    "        return 'win'\n",
    "    if three_in_a_row(state[6],state[7],state[8],player):\n",
    "        return 'win'\n",
    "    if three_in_a_row(state[0],state[3],state[6],player):\n",
    "        return 'win'\n",
    "    if three_in_a_row(state[1],state[4],state[7],player):\n",
    "        return 'win'\n",
    "    if three_in_a_row(state[2],state[5],state[8],player):\n",
    "        return 'win'\n",
    "    if three_in_a_row(state[0],state[4],state[8],player):\n",
    "        return 'win'\n",
    "    if three_in_a_row(state[2],state[4],state[6],player):\n",
    "        return 'win'\n",
    "    \n",
    "    if not valid_moves(state,other_player):\n",
    "        return 'stalemate'\n",
    "    \n",
    "    \n",
    "def show_state(state):\n",
    "    print(state)\n",
    "                      \n",
    "\n",
    "                      "
   ]
  },
  {
   "cell_type": "code",
   "execution_count": 7,
   "id": "54280a8c-fdbc-4663-b95d-a4e02d188a8b",
   "metadata": {},
   "outputs": [],
   "source": [
    "def random_move(state,player):    \n",
    "    moves=valid_moves(state,player)\n",
    "    return random.choice(moves)\n",
    " \n",
    "random_agent=Agent(random_move) "
   ]
  },
  {
   "cell_type": "code",
   "execution_count": 8,
   "id": "0021f776-c5d5-42ec-9164-d2863565d46e",
   "metadata": {},
   "outputs": [],
   "source": [
    "def human_move(state,player):    \n",
    "    print(\"\"\"\n",
    "    0 1 2\n",
    "    3 4 5\n",
    "    6 7 8\n",
    "    \"\"\")\n",
    "    move=int(input(\"What location do you want to move?\"))\n",
    "    return move\n",
    " \n",
    "human_agent=Agent(human_move) "
   ]
  },
  {
   "cell_type": "code",
   "execution_count": 10,
   "id": "bb05cb0f-0e97-47e5-a1bd-db7f6cd572c1",
   "metadata": {},
   "outputs": [],
   "source": [
    "g=Game()"
   ]
  },
  {
   "cell_type": "code",
   "execution_count": 13,
   "id": "bf88e738-f4f4-4fad-a639-51e7ee98b996",
   "metadata": {},
   "outputs": [
    {
     "name": "stdout",
     "output_type": "stream",
     "text": [
      "====\n",
      "Game  1\n",
      " 0  0  0 \n",
      " 0  0  0 \n",
      " 0  0  0 \n",
      "\n",
      "Player 1 moves 8\n",
      " 0  0  0 \n",
      " 0  0  0 \n",
      " 0  0  1 \n",
      "\n",
      "\n",
      "    0 1 2\n",
      "    3 4 5\n",
      "    6 7 8\n",
      "    \n"
     ]
    },
    {
     "name": "stdin",
     "output_type": "stream",
     "text": [
      "What location do you want to move? 0\n"
     ]
    },
    {
     "name": "stdout",
     "output_type": "stream",
     "text": [
      "Player 2 moves 0\n",
      " 2  0  0 \n",
      " 0  0  0 \n",
      " 0  0  1 \n",
      "\n",
      "Player 1 moves 7\n",
      " 2  0  0 \n",
      " 0  0  0 \n",
      " 0  1  1 \n",
      "\n",
      "\n",
      "    0 1 2\n",
      "    3 4 5\n",
      "    6 7 8\n",
      "    \n"
     ]
    },
    {
     "name": "stdin",
     "output_type": "stream",
     "text": [
      "What location do you want to move? 1\n"
     ]
    },
    {
     "name": "stdout",
     "output_type": "stream",
     "text": [
      "Player 2 moves 1\n",
      " 2  2  0 \n",
      " 0  0  0 \n",
      " 0  1  1 \n",
      "\n",
      "Player 1 moves 4\n",
      " 2  2  0 \n",
      " 0  1  0 \n",
      " 0  1  1 \n",
      "\n",
      "\n",
      "    0 1 2\n",
      "    3 4 5\n",
      "    6 7 8\n",
      "    \n"
     ]
    },
    {
     "name": "stdin",
     "output_type": "stream",
     "text": [
      "What location do you want to move? 3\n"
     ]
    },
    {
     "name": "stdout",
     "output_type": "stream",
     "text": [
      "Player 2 moves 3\n",
      " 2  2  0 \n",
      " 2  1  0 \n",
      " 0  1  1 \n",
      "\n",
      "Player 1 moves 6\n",
      " 2  2  0 \n",
      " 2  1  0 \n",
      " 1  1  1 \n",
      "\n",
      "Player  1 won.\n"
     ]
    },
    {
     "data": {
      "text/plain": [
       "[1]"
      ]
     },
     "execution_count": 13,
     "metadata": {},
     "output_type": "execute_result"
    }
   ],
   "source": [
    "g.run(random_agent,human_agent)"
   ]
  },
  {
   "cell_type": "code",
   "execution_count": null,
   "id": "4d926c67-8774-4ec5-8588-85d46a1240bd",
   "metadata": {},
   "outputs": [],
   "source": []
  }
 ],
 "metadata": {
  "kernelspec": {
   "display_name": "Python 3 (ipykernel)",
   "language": "python",
   "name": "python3"
  },
  "language_info": {
   "codemirror_mode": {
    "name": "ipython",
    "version": 3
   },
   "file_extension": ".py",
   "mimetype": "text/x-python",
   "name": "python",
   "nbconvert_exporter": "python",
   "pygments_lexer": "ipython3",
   "version": "3.9.12"
  }
 },
 "nbformat": 4,
 "nbformat_minor": 5
}
