{
 "cells": [
  {
   "cell_type": "code",
   "execution_count": null,
   "id": "c6c2ee79-2248-4327-8fc4-3b722eccdad2",
   "metadata": {},
   "outputs": [],
   "source": []
  },
  {
   "cell_type": "code",
   "execution_count": 1,
   "id": "4721f01a-d41b-4541-af52-d5a24f565c2e",
   "metadata": {},
   "outputs": [],
   "source": [
    "%matplotlib qt5"
   ]
  },
  {
   "cell_type": "code",
   "execution_count": 2,
   "id": "998591ed-e66b-4e27-856f-6e65167bc372",
   "metadata": {},
   "outputs": [
    {
     "name": "stdout",
     "output_type": "stream",
     "text": [
      "Version:  0.2.41\n"
     ]
    }
   ],
   "source": [
    "from Game import *"
   ]
  },
  {
   "cell_type": "code",
   "execution_count": 3,
   "id": "f97b93a1-0faf-4d03-9388-baba19ecdccf",
   "metadata": {},
   "outputs": [],
   "source": [
    "from pylab import *"
   ]
  },
  {
   "cell_type": "code",
   "execution_count": 4,
   "id": "f9e7a98e-e10e-4992-a897-99d4d53f97a4",
   "metadata": {},
   "outputs": [
    {
     "name": "stdout",
     "output_type": "stream",
     "text": [
      "Version  1.0.6\n",
      "Version:  0.0.31\n"
     ]
    }
   ],
   "source": [
    "from classy import *"
   ]
  },
  {
   "cell_type": "code",
   "execution_count": 5,
   "id": "150a1f3c-f352-4b83-acb1-af8e6ec700d5",
   "metadata": {},
   "outputs": [],
   "source": [
    "def onkey(event):\n",
    "    global locations\n",
    "    from pylab import close\n",
    "    import os\n",
    "    import json\n",
    "    global fig\n",
    "    \n",
    "    if event.key=='escape':\n",
    "        print(\"locations=\",array(locations).__repr__())\n",
    "        with open('locations.json', 'w') as outfile:\n",
    "            json.dump(locations, outfile)\n",
    "    \n",
    "        close(fig)\n",
    "        \n",
    "def onclick(event):\n",
    "    from pylab import plot,show,close\n",
    "    global ix, iy\n",
    "    global locations,fig,ax\n",
    "    \n",
    "    ix, iy = event.xdata, event.ydata\n",
    "    global coords\n",
    "    coords = [int(ix), int(iy)]\n",
    "    print(coords)\n",
    "    \n",
    "    locations.append(coords)\n",
    "    \n",
    "    ax.plot(ix,iy,'go')\n",
    "    fig.canvas.draw()\n",
    "    show()\n",
    "    return coords\n",
    "\n",
    "def get_square_locations(filefilter):\n",
    "    from pylab import imread,imsave,imshow,figure,show\n",
    "    from glob import glob\n",
    "    global locations,fig,ax\n",
    "    locations=[]\n",
    "    stop=False\n",
    "    \n",
    "    fnames=glob(filefilter)\n",
    "    \n",
    "    fig=figure()\n",
    "    ax=subplot(1,1,1)\n",
    "    arr=imread(fnames[0])\n",
    "    imshow(arr)\n",
    "    \n",
    "    cid = fig.canvas.mpl_connect('button_press_event', onclick)\n",
    "    cid2 = fig.canvas.mpl_connect('key_press_event', onkey)\n",
    "    show()"
   ]
  },
  {
   "cell_type": "code",
   "execution_count": 6,
   "id": "44b8a616-286f-4298-853d-37d7d908ed0f",
   "metadata": {},
   "outputs": [
    {
     "name": "stdout",
     "output_type": "stream",
     "text": [
      "[494, 234]\n",
      "[646, 237]\n",
      "[798, 229]\n",
      "[953, 224]\n",
      "[501, 386]\n",
      "[651, 382]\n",
      "[808, 377]\n",
      "[972, 370]\n",
      "[503, 545]\n",
      "[656, 538]\n",
      "[810, 539]\n",
      "[967, 531]\n",
      "[507, 687]\n",
      "[662, 684]\n",
      "[813, 679]\n",
      "[967, 668]\n",
      "locations= array([[494, 234],\n",
      "       [646, 237],\n",
      "       [798, 229],\n",
      "       [953, 224],\n",
      "       [501, 386],\n",
      "       [651, 382],\n",
      "       [808, 377],\n",
      "       [972, 370],\n",
      "       [503, 545],\n",
      "       [656, 538],\n",
      "       [810, 539],\n",
      "       [967, 531],\n",
      "       [507, 687],\n",
      "       [662, 684],\n",
      "       [813, 679],\n",
      "       [967, 668]])\n"
     ]
    }
   ],
   "source": [
    "get_square_locations(\"RotoPhotos2/*.jpg\")"
   ]
  },
  {
   "cell_type": "code",
   "execution_count": null,
   "id": "60f486a6-1fe3-43aa-a0f9-150982891e0f",
   "metadata": {},
   "outputs": [],
   "source": []
  },
  {
   "cell_type": "code",
   "execution_count": null,
   "id": "6e41f302-a86f-49f1-8fcc-bd4f1e42a993",
   "metadata": {},
   "outputs": [],
   "source": []
  },
  {
   "cell_type": "code",
   "execution_count": null,
   "id": "5e0e3771-dd7e-4ec5-92c3-262bec7b0f2b",
   "metadata": {},
   "outputs": [],
   "source": []
  },
  {
   "cell_type": "code",
   "execution_count": null,
   "id": "53884530-b5fe-41f8-9906-db5b98b4f2f3",
   "metadata": {
    "tags": []
   },
   "outputs": [],
   "source": []
  },
  {
   "cell_type": "code",
   "execution_count": 23,
   "id": "29febbad-b7dc-4d0a-9755-09614fae9118",
   "metadata": {},
   "outputs": [],
   "source": []
  },
  {
   "cell_type": "code",
   "execution_count": 24,
   "id": "0108599f-45ee-4a8e-9d21-033ddb209a88",
   "metadata": {},
   "outputs": [],
   "source": []
  },
  {
   "cell_type": "code",
   "execution_count": null,
   "id": "0c4c105e-cb72-4391-b756-998892eab916",
   "metadata": {},
   "outputs": [],
   "source": []
  },
  {
   "cell_type": "code",
   "execution_count": 13,
   "id": "9119085b-69ae-4822-9ccd-57a1da0192b4",
   "metadata": {},
   "outputs": [],
   "source": []
  },
  {
   "cell_type": "code",
   "execution_count": null,
   "id": "050d268d-db1d-4b20-ae09-111772824175",
   "metadata": {},
   "outputs": [],
   "source": []
  },
  {
   "cell_type": "code",
   "execution_count": 25,
   "id": "743d8a28-1d4c-4f06-8771-d99b59675e92",
   "metadata": {},
   "outputs": [],
   "source": []
  },
  {
   "cell_type": "code",
   "execution_count": null,
   "id": "8edf7ab1-5ebe-4a2b-a8f3-abe7a491ae48",
   "metadata": {},
   "outputs": [],
   "source": []
  },
  {
   "cell_type": "code",
   "execution_count": null,
   "id": "6a10063d-6124-4553-80bc-f5e442f1c909",
   "metadata": {},
   "outputs": [],
   "source": []
  },
  {
   "cell_type": "code",
   "execution_count": null,
   "id": "c7572b33-5bd0-419f-b2f8-7bc6215c295d",
   "metadata": {},
   "outputs": [],
   "source": []
  }
 ],
 "metadata": {
  "kernelspec": {
   "display_name": "Python 3 (ipykernel)",
   "language": "python",
   "name": "python3"
  },
  "language_info": {
   "codemirror_mode": {
    "name": "ipython",
    "version": 3
   },
   "file_extension": ".py",
   "mimetype": "text/x-python",
   "name": "python",
   "nbconvert_exporter": "python",
   "pygments_lexer": "ipython3",
   "version": "3.9.12"
  }
 },
 "nbformat": 4,
 "nbformat_minor": 5
}
