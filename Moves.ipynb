{
 "cells": [
  {
   "cell_type": "markdown",
   "id": "41375c64-c321-4f58-b801-b866142575cf",
   "metadata": {},
   "source": [
    "# Get Move"
   ]
  },
  {
   "cell_type": "code",
   "execution_count": 7,
   "id": "ce194c82-df3e-4a5c-a5ef-18de9381b1df",
   "metadata": {},
   "outputs": [
    {
     "ename": "ModuleNotFoundError",
     "evalue": "No module named 'Breakthru'",
     "output_type": "error",
     "traceback": [
      "\u001b[1;31m---------------------------------------------------------------------------\u001b[0m",
      "\u001b[1;31mModuleNotFoundError\u001b[0m                       Traceback (most recent call last)",
      "Input \u001b[1;32mIn [7]\u001b[0m, in \u001b[0;36m<cell line: 1>\u001b[1;34m()\u001b[0m\n\u001b[1;32m----> 1\u001b[0m \u001b[38;5;28;01mfrom\u001b[39;00m \u001b[38;5;21;01mBreakthru\u001b[39;00m \u001b[38;5;28;01mimport\u001b[39;00m \u001b[38;5;241m*\u001b[39m\n",
      "\u001b[1;31mModuleNotFoundError\u001b[0m: No module named 'Breakthru'"
     ]
    }
   ],
   "source": [
    "from Breakthru import *"
   ]
  },
  {
   "cell_type": "code",
   "execution_count": null,
   "id": "c3cfd00a-1e84-432c-a760-891729a67606",
   "metadata": {},
   "outputs": [],
   "source": [
    "def random_move(state,player):\n",
    "    moves=valid_moves(state,player)\n",
    "    return random.choice(moves)\n",
    "\n",
    "def get_move(state,player):\n",
    "    return random_move(state,player)"
   ]
  },
  {
   "cell_type": "markdown",
   "id": "fd6d43cf-88a6-48d9-a349-8ddefd2ac68f",
   "metadata": {},
   "source": [
    "### For Q Agent"
   ]
  },
  {
   "cell_type": "code",
   "execution_count": null,
   "id": "269096c6-e0fa-408f-992a-e1b3fe95a8f1",
   "metadata": {},
   "outputs": [],
   "source": [
    "def get_move(state,player):\n",
    "    if player==1:\n",
    "        Q=LoadTable(\"Q1_agent_table.json\")\n",
    "    else:\n",
    "        Q=LoadTable(\"Q2_agent_table.json\")\n",
    "        \n",
    "    \n",
    "    if state not in Q:\n",
    "        return random_move(state,player)\n",
    "    else:\n",
    "        return top_choice(Q[state])"
   ]
  },
  {
   "cell_type": "code",
   "execution_count": null,
   "id": "72e427ab-2627-4c25-8e3b-8e68f190dc64",
   "metadata": {},
   "outputs": [],
   "source": [
    "state=initial_state()"
   ]
  },
  {
   "cell_type": "code",
   "execution_count": null,
   "id": "65f382cd-b988-4469-9d53-841fccf2cd19",
   "metadata": {},
   "outputs": [],
   "source": [
    "get_move(state,1)"
   ]
  }
 ],
 "metadata": {
  "kernelspec": {
   "display_name": "Python 3 (ipykernel)",
   "language": "python",
   "name": "python3"
  },
  "language_info": {
   "codemirror_mode": {
    "name": "ipython",
    "version": 3
   },
   "file_extension": ".py",
   "mimetype": "text/x-python",
   "name": "python",
   "nbconvert_exporter": "python",
   "pygments_lexer": "ipython3",
   "version": "3.9.12"
  }
 },
 "nbformat": 4,
 "nbformat_minor": 5
}
