{
 "cells": [
  {
   "cell_type": "code",
   "execution_count": 2,
   "id": "db2973bd-b6ac-42c8-96b2-72f37797d625",
   "metadata": {
    "collapsed": true,
    "jupyter": {
     "outputs_hidden": true
    },
    "tags": []
   },
   "outputs": [
    {
     "name": "stdout",
     "output_type": "stream",
     "text": [
      "Collecting package metadata (current_repodata.json): ...working... done\n",
      "Solving environment: ...working... done\n",
      "\n",
      "## Package Plan ##\n",
      "\n",
      "  environment location: C:\\Users\\student\\anaconda3\n",
      "\n",
      "  added / updated specs:\n",
      "    - git\n",
      "\n",
      "\n",
      "The following packages will be downloaded:\n",
      "\n",
      "    package                    |            build\n",
      "    ---------------------------|-----------------\n",
      "    ca-certificates-2022.3.29  |       haa95532_1         160 KB  anaconda\n",
      "    certifi-2021.10.8          |   py39haa95532_2         156 KB  anaconda\n",
      "    git-2.34.1                 |       haa95532_0        95.5 MB  anaconda\n",
      "    openssl-1.1.1n             |       h2bbff1b_0         5.8 MB  anaconda\n",
      "    ------------------------------------------------------------\n",
      "                                           Total:       101.6 MB\n",
      "\n",
      "The following NEW packages will be INSTALLED:\n",
      "\n",
      "  git                anaconda/win-64::git-2.34.1-haa95532_0\n",
      "\n",
      "The following packages will be SUPERSEDED by a higher-priority channel:\n",
      "\n",
      "  ca-certificates                                 pkgs/main --> anaconda\n",
      "  certifi                                         pkgs/main --> anaconda\n",
      "  openssl                                         pkgs/main --> anaconda\n",
      "\n",
      "\n",
      "\n",
      "Downloading and Extracting Packages\n",
      "\n",
      "ca-certificates-2022 | 160 KB    |            |   0% \n",
      "ca-certificates-2022 | 160 KB    | #          |  10% \n",
      "ca-certificates-2022 | 160 KB    | ########## | 100% \n",
      "\n",
      "certifi-2021.10.8    | 156 KB    |            |   0% \n",
      "certifi-2021.10.8    | 156 KB    | ########## | 100% \n",
      "certifi-2021.10.8    | 156 KB    | ########## | 100% \n",
      "\n",
      "openssl-1.1.1n       | 5.8 MB    |            |   0% \n",
      "openssl-1.1.1n       | 5.8 MB    | #2         |  12% \n",
      "openssl-1.1.1n       | 5.8 MB    | ###7       |  37% \n",
      "openssl-1.1.1n       | 5.8 MB    | ########5  |  85% \n",
      "openssl-1.1.1n       | 5.8 MB    | ########## | 100% \n",
      "\n",
      "git-2.34.1           | 95.5 MB   |            |   0% \n",
      "git-2.34.1           | 95.5 MB   |            |   1% \n",
      "git-2.34.1           | 95.5 MB   | 2          |   3% \n",
      "git-2.34.1           | 95.5 MB   | 5          |   5% \n",
      "git-2.34.1           | 95.5 MB   | 7          |   7% \n",
      "git-2.34.1           | 95.5 MB   | 9          |   9% \n",
      "git-2.34.1           | 95.5 MB   | #1         |  11% \n",
      "git-2.34.1           | 95.5 MB   | #3         |  13% \n",
      "git-2.34.1           | 95.5 MB   | #4         |  15% \n",
      "git-2.34.1           | 95.5 MB   | #6         |  16% \n",
      "git-2.34.1           | 95.5 MB   | #7         |  18% \n",
      "git-2.34.1           | 95.5 MB   | #9         |  19% \n",
      "git-2.34.1           | 95.5 MB   | ##1        |  21% \n",
      "git-2.34.1           | 95.5 MB   | ##2        |  23% \n",
      "git-2.34.1           | 95.5 MB   | ##4        |  25% \n",
      "git-2.34.1           | 95.5 MB   | ##6        |  26% \n",
      "git-2.34.1           | 95.5 MB   | ##7        |  28% \n",
      "git-2.34.1           | 95.5 MB   | ##9        |  30% \n",
      "git-2.34.1           | 95.5 MB   | ###1       |  32% \n",
      "git-2.34.1           | 95.5 MB   | ###3       |  33% \n",
      "git-2.34.1           | 95.5 MB   | ###5       |  35% \n",
      "git-2.34.1           | 95.5 MB   | ###7       |  37% \n",
      "git-2.34.1           | 95.5 MB   | ###9       |  39% \n",
      "git-2.34.1           | 95.5 MB   | ####       |  41% \n",
      "git-2.34.1           | 95.5 MB   | ####2      |  42% \n",
      "git-2.34.1           | 95.5 MB   | ####4      |  44% \n",
      "git-2.34.1           | 95.5 MB   | ####6      |  47% \n",
      "git-2.34.1           | 95.5 MB   | ####8      |  49% \n",
      "git-2.34.1           | 95.5 MB   | #####      |  51% \n",
      "git-2.34.1           | 95.5 MB   | #####2     |  53% \n",
      "git-2.34.1           | 95.5 MB   | #####4     |  55% \n",
      "git-2.34.1           | 95.5 MB   | #####7     |  58% \n",
      "git-2.34.1           | 95.5 MB   | #####9     |  60% \n",
      "git-2.34.1           | 95.5 MB   | ######2    |  63% \n",
      "git-2.34.1           | 95.5 MB   | ######5    |  65% \n",
      "git-2.34.1           | 95.5 MB   | ######7    |  68% \n",
      "git-2.34.1           | 95.5 MB   | ######9    |  69% \n",
      "git-2.34.1           | 95.5 MB   | #######1   |  71% \n",
      "git-2.34.1           | 95.5 MB   | #######2   |  73% \n",
      "git-2.34.1           | 95.5 MB   | #######4   |  74% \n",
      "git-2.34.1           | 95.5 MB   | #######5   |  76% \n",
      "git-2.34.1           | 95.5 MB   | #######6   |  77% \n",
      "git-2.34.1           | 95.5 MB   | #######8   |  78% \n",
      "git-2.34.1           | 95.5 MB   | #######9   |  80% \n",
      "git-2.34.1           | 95.5 MB   | ########1  |  81% \n",
      "git-2.34.1           | 95.5 MB   | ########2  |  83% \n",
      "git-2.34.1           | 95.5 MB   | ########4  |  84% \n",
      "git-2.34.1           | 95.5 MB   | ########5  |  86% \n",
      "git-2.34.1           | 95.5 MB   | ########6  |  87% \n",
      "git-2.34.1           | 95.5 MB   | ########8  |  88% \n",
      "git-2.34.1           | 95.5 MB   | #########  |  90% \n",
      "git-2.34.1           | 95.5 MB   | #########1 |  91% \n",
      "git-2.34.1           | 95.5 MB   | #########2 |  93% \n",
      "git-2.34.1           | 95.5 MB   | #########4 |  94% \n",
      "git-2.34.1           | 95.5 MB   | #########6 |  96% \n",
      "git-2.34.1           | 95.5 MB   | #########7 |  98% \n",
      "git-2.34.1           | 95.5 MB   | #########8 |  99% \n",
      "git-2.34.1           | 95.5 MB   | ########## | 100% \n",
      "Preparing transaction: ...working... done\n",
      "Verifying transaction: ...working... done\n",
      "Executing transaction: ...working... done\n",
      "Retrieving notices: ...working... done\n",
      "\n",
      "Note: you may need to restart the kernel to use updated packages.\n"
     ]
    }
   ],
   "source": [
    "conda install -c anaconda git"
   ]
  },
  {
   "cell_type": "code",
   "execution_count": 3,
   "id": "dac84204-2658-49cc-9ea6-f39ad4425f8c",
   "metadata": {
    "collapsed": true,
    "jupyter": {
     "outputs_hidden": true
    },
    "tags": []
   },
   "outputs": [
    {
     "name": "stdout",
     "output_type": "stream",
     "text": [
      "Collecting git+https://github.com/bblais/Game\n",
      "  Cloning https://github.com/bblais/Game to c:\\users\\student\\appdata\\local\\temp\\pip-req-build-le7_afpv\n",
      "  Resolved https://github.com/bblais/Game to commit 5c25c14f0e0a21e70a603383aec3e12356780f4f\n",
      "Building wheels for collected packages: Game\n",
      "  Building wheel for Game (setup.py): started\n",
      "  Building wheel for Game (setup.py): finished with status 'done'\n",
      "  Created wheel for Game: filename=Game-0.2.35-py3-none-any.whl size=16346 sha256=c76a478f17510106fbdcad5af5e850aaed67d4aa95f0daa941a27ab8e55af33c\n",
      "  Stored in directory: C:\\Users\\student\\AppData\\Local\\Temp\\pip-ephem-wheel-cache-47y9tyyv\\wheels\\ac\\53\\b0\\96f68d259ff1041cbfc890498c118f0f76b3381096e564dc33\n",
      "Successfully built Game\n",
      "Installing collected packages: Game\n",
      "Successfully installed Game-0.2.35\n",
      "Note: you may need to restart the kernel to use updated packages.\n"
     ]
    },
    {
     "name": "stderr",
     "output_type": "stream",
     "text": [
      "  Running command git clone -q https://github.com/bblais/Game 'C:\\Users\\student\\AppData\\Local\\Temp\\pip-req-build-le7_afpv'\n"
     ]
    }
   ],
   "source": [
    "pip install \"git+https://github.com/bblais/Game\" --upgrade"
   ]
  },
  {
   "cell_type": "code",
   "execution_count": 4,
   "id": "06b5f368-113d-4ee8-9e19-7fd2e3ecb6e4",
   "metadata": {},
   "outputs": [
    {
     "name": "stdout",
     "output_type": "stream",
     "text": [
      "Version:  0.2.35\n"
     ]
    }
   ],
   "source": [
    "from Game import *"
   ]
  },
  {
   "cell_type": "code",
   "execution_count": 35,
   "id": "bacf9534-8487-4ba8-a26d-631ae553ef29",
   "metadata": {},
   "outputs": [],
   "source": [
    "def initial_state():\n",
    "    return 21\n",
    "\n",
    "def valid_moves(state,player):\n",
    "    if state==1:\n",
    "        return[1]\n",
    "    elif state==2:\n",
    "        return [1,2]\n",
    "    else:\n",
    "        return [1,2,3]\n",
    "    \n",
    "\n",
    "\n"
   ]
  },
  {
   "cell_type": "code",
   "execution_count": 36,
   "id": "d00466fb-3f12-4b61-823e-6723fbff7b66",
   "metadata": {},
   "outputs": [
    {
     "data": {
      "text/plain": [
       "[1, 2, 3]"
      ]
     },
     "execution_count": 36,
     "metadata": {},
     "output_type": "execute_result"
    }
   ],
   "source": [
    "valid_moves(21,1)"
   ]
  },
  {
   "cell_type": "code",
   "execution_count": 37,
   "id": "b512d100-a874-4aa5-92da-5c2e113932a5",
   "metadata": {},
   "outputs": [
    {
     "data": {
      "text/plain": [
       "[1, 2, 3]"
      ]
     },
     "execution_count": 37,
     "metadata": {},
     "output_type": "execute_result"
    }
   ],
   "source": [
    "valid_moves(15,3)"
   ]
  },
  {
   "cell_type": "code",
   "execution_count": 38,
   "id": "123ed662-0307-4fde-ab7a-bda40e868dea",
   "metadata": {},
   "outputs": [],
   "source": [
    "def update_state(state,player,move):\n",
    "    new_state = state - move\n",
    "    \n",
    "    return new_state"
   ]
  },
  {
   "cell_type": "code",
   "execution_count": 39,
   "id": "a1c2f055-669b-49af-a53b-9c9cb27e8816",
   "metadata": {},
   "outputs": [
    {
     "data": {
      "text/plain": [
       "11"
      ]
     },
     "execution_count": 39,
     "metadata": {},
     "output_type": "execute_result"
    }
   ],
   "source": [
    "update_state(13,1,2)"
   ]
  },
  {
   "cell_type": "code",
   "execution_count": 40,
   "id": "9c38bc4b-fa82-4538-9e4f-f6a0beedbd9b",
   "metadata": {},
   "outputs": [],
   "source": [
    "def show_state(state):\n",
    "    number_of_sticks = state\n",
    "    print('The number of sticks is ',number_of_sticks)\n",
    "    \n",
    "    "
   ]
  },
  {
   "cell_type": "code",
   "execution_count": 41,
   "id": "eac1454b-4077-470e-b121-994149a0f1d2",
   "metadata": {},
   "outputs": [
    {
     "name": "stdout",
     "output_type": "stream",
     "text": [
      "The number of sticks is  12\n"
     ]
    }
   ],
   "source": [
    "show_state(12)"
   ]
  },
  {
   "cell_type": "code",
   "execution_count": 46,
   "id": "c3aa1508-5503-462d-97f6-d681518cd214",
   "metadata": {},
   "outputs": [],
   "source": [
    "def win_status(state,player):\n",
    "    if state==1:\n",
    "        return 'win'\n",
    "    if state==0:\n",
    "        return 'lose'\n",
    "    "
   ]
  },
  {
   "cell_type": "code",
   "execution_count": 47,
   "id": "8684ce12-d4e7-4c69-abdc-3bcff9f50174",
   "metadata": {},
   "outputs": [],
   "source": [
    "def random_move(state,player):    \n",
    "    moves=valid_moves(state,player)\n",
    "    return random.choice(moves)\n",
    "\n",
    "random_agent= Agent(random_move)"
   ]
  },
  {
   "cell_type": "code",
   "execution_count": 48,
   "id": "0a79b1b0-64b8-4a95-bab5-0e49c3438789",
   "metadata": {},
   "outputs": [],
   "source": [
    "def human_move(state,player):    \n",
    "    move=int(input(\"How many sticks to take?\"))\n",
    "    return move\n",
    " \n",
    "human_agent=Agent(human_move) "
   ]
  },
  {
   "cell_type": "code",
   "execution_count": 49,
   "id": "998586ff-c25f-45ed-ad4b-55b8178307df",
   "metadata": {},
   "outputs": [
    {
     "name": "stdout",
     "output_type": "stream",
     "text": [
      "====\n",
      "Game  1\n",
      "The number of sticks is  21\n",
      "Player 1 moves 2\n",
      "The number of sticks is  19\n"
     ]
    },
    {
     "name": "stdin",
     "output_type": "stream",
     "text": [
      "How many sticks to take? 3\n"
     ]
    },
    {
     "name": "stdout",
     "output_type": "stream",
     "text": [
      "Player 2 moves 3\n",
      "The number of sticks is  16\n",
      "Player 1 moves 3\n",
      "The number of sticks is  13\n"
     ]
    },
    {
     "name": "stdin",
     "output_type": "stream",
     "text": [
      "How many sticks to take? 3\n"
     ]
    },
    {
     "name": "stdout",
     "output_type": "stream",
     "text": [
      "Player 2 moves 3\n",
      "The number of sticks is  10\n",
      "Player 1 moves 1\n",
      "The number of sticks is  9\n"
     ]
    },
    {
     "name": "stdin",
     "output_type": "stream",
     "text": [
      "How many sticks to take? 2\n"
     ]
    },
    {
     "name": "stdout",
     "output_type": "stream",
     "text": [
      "Player 2 moves 2\n",
      "The number of sticks is  7\n",
      "Player 1 moves 2\n",
      "The number of sticks is  5\n"
     ]
    },
    {
     "name": "stdin",
     "output_type": "stream",
     "text": [
      "How many sticks to take? 1\n"
     ]
    },
    {
     "name": "stdout",
     "output_type": "stream",
     "text": [
      "Player 2 moves 1\n",
      "The number of sticks is  4\n",
      "Player 1 moves 2\n",
      "The number of sticks is  2\n"
     ]
    },
    {
     "name": "stdin",
     "output_type": "stream",
     "text": [
      "How many sticks to take? 1\n"
     ]
    },
    {
     "name": "stdout",
     "output_type": "stream",
     "text": [
      "Player 2 moves 1\n",
      "The number of sticks is  1\n",
      "Player  2 won.\n"
     ]
    },
    {
     "data": {
      "text/plain": [
       "[2]"
      ]
     },
     "execution_count": 49,
     "metadata": {},
     "output_type": "execute_result"
    }
   ],
   "source": [
    "g=Game()\n",
    "g.run(random_agent,human_agent)\n"
   ]
  },
  {
   "cell_type": "code",
   "execution_count": null,
   "id": "eae067d2-83b1-49d7-aacd-d4dfd804dde3",
   "metadata": {},
   "outputs": [],
   "source": []
  }
 ],
 "metadata": {
  "kernelspec": {
   "display_name": "Python 3 (ipykernel)",
   "language": "python",
   "name": "python3"
  },
  "language_info": {
   "codemirror_mode": {
    "name": "ipython",
    "version": 3
   },
   "file_extension": ".py",
   "mimetype": "text/x-python",
   "name": "python",
   "nbconvert_exporter": "python",
   "pygments_lexer": "ipython3",
   "version": "3.9.12"
  }
 },
 "nbformat": 4,
 "nbformat_minor": 5
}
