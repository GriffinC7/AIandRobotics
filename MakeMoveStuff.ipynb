{
 "cells": [
  {
   "cell_type": "code",
   "execution_count": 57,
   "id": "58dedda3-add0-4088-bdc8-68c9b5b1f173",
   "metadata": {},
   "outputs": [],
   "source": [
    "from Game import *"
   ]
  },
  {
   "cell_type": "code",
   "execution_count": 58,
   "id": "44c6d41b-68ef-4170-955c-27495fe60237",
   "metadata": {},
   "outputs": [],
   "source": [
    "def initial_state():\n",
    "    state=Board(4,4)\n",
    "    state[0] = 1\n",
    "    state[1] = 1\n",
    "    state[2] = 1\n",
    "    state[3] = 1\n",
    "    state[12] = 2\n",
    "    state[13] = 2\n",
    "    state[14] = 2\n",
    "    state[15] = 2\n",
    "    return state"
   ]
  },
  {
   "cell_type": "code",
   "execution_count": 59,
   "id": "8c823434-5f9c-4e43-bc2d-b8bc997ba509",
   "metadata": {
    "jupyter": {
     "source_hidden": true
    },
    "tags": []
   },
   "outputs": [],
   "source": [
    "#valid moves \n",
    "def valid_moves(state,player):\n",
    "    emptySquare = 0\n",
    "    player1 = 1\n",
    "    player2 = 2\n",
    "    \n",
    "    moves = []\n",
    "    if player== 1:\n",
    "        if state[0] == 1 and state[4]== 0:\n",
    "            moves.append([0,4])\n",
    "        if state[1] == 1 and state[5]== 0:\n",
    "            moves.append([1,5])\n",
    "        if state[2] == 1 and state[6]== 0:\n",
    "            moves.append([2,6])\n",
    "        if state[3] == 1 and state[7]== 0:\n",
    "            moves.append([3,7])    \n",
    "        if state[4] == 1 and state[8]== 0:\n",
    "            moves.append([4,8])\n",
    "        if state[5] == 1 and state[9]== 0:\n",
    "            moves.append([5,9])\n",
    "        if state[6] == 1 and state[10]== 0:\n",
    "            moves.append([6,10])\n",
    "        if state[7] == 1 and state[11]== 0:\n",
    "            moves.append([7,11])\n",
    "        if state[8] == 1 and state[12]== 0:\n",
    "            moves.append([8,12])\n",
    "        if state[9] == 1 and state[13]== 0:\n",
    "            moves.append([9,13])\n",
    "        if state[10] == 1 and state[14]== 0:\n",
    "            moves.append([10,14])\n",
    "        if state[11] == 1 and state[15]== 0:\n",
    "            moves.append([11,15])\n",
    "\n",
    "        if state[0] == 1 and state[5]== 0:\n",
    "            moves.append([0,5])\n",
    "        if state[1] == 1 and state[4]== 0:\n",
    "            moves.append([1,4])\n",
    "        if state[1] == 1 and state[6]== 0:\n",
    "            moves.append([1,6])\n",
    "        if state[2] == 1 and state[5]== 0:\n",
    "            moves.append([2,5])\n",
    "        if state[2] == 1 and state[7]== 0:\n",
    "            moves.append([2,7])\n",
    "        if state[3] == 1 and state[6]== 0:\n",
    "            moves.append([3,6])\n",
    "\n",
    "        if state[4] == 1 and state[9]== 0:\n",
    "            moves.append([4,9])\n",
    "        if state[5] == 1 and state[8]== 0:\n",
    "            moves.append([5,8])\n",
    "        if state[5] == 1 and state[10]== 0:\n",
    "            moves.append([5,10])\n",
    "        if state[6] == 1 and state[9]== 0:\n",
    "            moves.append([6,9])\n",
    "        if state[6] == 1 and state[11]== 0:\n",
    "            moves.append([6,11])\n",
    "        if state[7] == 1 and state[10]== 0:\n",
    "            moves.append([7,10])\n",
    "\n",
    "        if state[8] == 1 and state[13]== 0:\n",
    "            moves.append([8,13])\n",
    "        if state[9] == 1 and state[12]== 0:\n",
    "            moves.append([9,12])\n",
    "        if state[9] == 1 and state[14]== 0:\n",
    "            moves.append([9,14])\n",
    "        if state[10] == 1 and state[13]== 0:\n",
    "            moves.append([10,13])\n",
    "        if state[10] == 1 and state[15]== 0:\n",
    "            moves.append([10,15])\n",
    "        if state[11] == 1 and state[14]== 0:\n",
    "            moves.append([11,14])\n",
    "\n",
    "        if state[0] == 1 and state[5]== 2:\n",
    "            moves.append([0,5])\n",
    "        if state[1] == 1 and state[4]== 2:\n",
    "            moves.append([1,4])\n",
    "        if state[1] == 1 and state[6]== 2:\n",
    "            moves.append([1,6])\n",
    "        if state[2] == 1 and state[5]== 2:\n",
    "            moves.append([2,5])\n",
    "        if state[2] == 1 and state[7]== 2:\n",
    "            moves.append([2,7])\n",
    "        if state[3] == 1 and state[6]== 2:\n",
    "            moves.append([3,6])\n",
    "\n",
    "        if state[4] == 1 and state[9]== 2:\n",
    "            moves.append([4,9])\n",
    "        if state[5] == 1 and state[8]== 2:\n",
    "            moves.append([5,8])\n",
    "        if state[5] == 1 and state[10]== 2:\n",
    "            moves.append([5,10])\n",
    "        if state[6] == 1 and state[9]== 2:\n",
    "            moves.append([6,9])\n",
    "        if state[6] == 1 and state[11]== 2:\n",
    "            moves.append([6,11])\n",
    "        if state[7] == 1 and state[10]== 2:\n",
    "            moves.append([7,10])\n",
    "\n",
    "        if state[8] == 1 and state[13]== 2:\n",
    "            moves.append([8,13])\n",
    "        if state[9] == 1 and state[12]== 2:\n",
    "            moves.append([9,12])\n",
    "        if state[9] == 1 and state[14]== 2:\n",
    "            moves.append([9,14])\n",
    "        if state[10] == 1 and state[13]== 2:\n",
    "            moves.append([10,13])\n",
    "        if state[10] == 1 and state[15]== 2:\n",
    "            moves.append([10,15])\n",
    "        if state[11] == 1 and state[14]== 2:\n",
    "            moves.append([11,14])\n",
    "\n",
    "    if player== 2:\n",
    "        if state[12] == 2 and state[8]== 0:\n",
    "            moves.append([12,8])\n",
    "        if state[13] == 2 and state[9]== 0:\n",
    "            moves.append([13,9])\n",
    "        if state[14] == 2 and state[10]== 0:\n",
    "            moves.append([14,10])\n",
    "        if state[15] == 2 and state[11]== 0:\n",
    "            moves.append([15,11])    \n",
    "        if state[8] == 2 and state[4]== 0:\n",
    "            moves.append([8,4])\n",
    "        if state[9] == 2 and state[5]== 0:\n",
    "            moves.append([9,5])\n",
    "        if state[10] == 2 and state[6]== 0:\n",
    "            moves.append([10,6])\n",
    "        if state[11] == 2 and state[7]== 0:\n",
    "            moves.append([11,7])\n",
    "        if state[4] == 2 and state[0]== 0:\n",
    "            moves.append([4,0])\n",
    "        if state[5] == 2 and state[1]== 0:\n",
    "            moves.append([5,1])\n",
    "        if state[6] == 2 and state[2]== 0:\n",
    "            moves.append([6,2])\n",
    "        if state[7] == 2 and state[3]== 0:\n",
    "            moves.append([7,3])\n",
    "\n",
    "        if state[12] == 2 and state[9]== 0:\n",
    "            moves.append([12,9])\n",
    "        if state[13] == 2 and state[8]== 0:\n",
    "            moves.append([13,8])\n",
    "        if state[13] == 2 and state[10]== 0:\n",
    "            moves.append([13,10])\n",
    "        if state[14] == 2 and state[9]== 0:\n",
    "            moves.append([14,9])\n",
    "        if state[14] == 2 and state[11]== 0:\n",
    "            moves.append([14,11])\n",
    "        if state[15] == 2 and state[10]== 0:\n",
    "            moves.append([15,10])\n",
    "\n",
    "        if state[8] == 2 and state[5]== 0:\n",
    "            moves.append([8,5])\n",
    "        if state[9] == 2 and state[4]== 0:\n",
    "            moves.append([9,4])\n",
    "        if state[9] == 2 and state[6]== 0:\n",
    "            moves.append([9,6])\n",
    "        if state[10] == 2 and state[5]== 0:\n",
    "            moves.append([10,5])\n",
    "        if state[10] == 2 and state[7]== 0:\n",
    "            moves.append([10,7])\n",
    "        if state[11] == 2 and state[6]== 0:\n",
    "            moves.append([11,6])\n",
    "\n",
    "        if state[4] == 2 and state[1]== 0:\n",
    "            moves.append([4,1])\n",
    "        if state[5] == 2 and state[0]== 0:\n",
    "            moves.append([5,0])\n",
    "        if state[5] == 2 and state[2]== 0:\n",
    "            moves.append([5,2])\n",
    "        if state[6] == 2 and state[1]== 0:\n",
    "            moves.append([6,1])\n",
    "        if state[6] == 2 and state[3]== 0:\n",
    "            moves.append([6,3])\n",
    "        if state[7] == 2 and state[2]== 0:\n",
    "            moves.append([7,2])\n",
    "\n",
    "        if state[12] == 2 and state[9]== 1:\n",
    "            moves.append([12,9])\n",
    "        if state[13] == 2 and state[8]== 1:\n",
    "            moves.append([13,8])\n",
    "        if state[13] == 2 and state[10]== 1:\n",
    "            moves.append([13,10])\n",
    "        if state[14] == 2 and state[9]== 1:\n",
    "            moves.append([14,9])\n",
    "        if state[14] == 2 and state[11]== 1:\n",
    "            moves.append([14,11])\n",
    "        if state[15] == 2 and state[10]== 1:\n",
    "            moves.append([15,10])\n",
    "\n",
    "        if state[8] == 2 and state[5]== 1:\n",
    "            moves.append([8,5])\n",
    "        if state[9] == 2 and state[4]== 1:\n",
    "            moves.append([9,4])\n",
    "        if state[9] == 2 and state[6]== 1:\n",
    "            moves.append([9,6])\n",
    "        if state[10] == 2 and state[5]== 1:\n",
    "            moves.append([10,5])\n",
    "        if state[10] == 2 and state[7]== 1:\n",
    "            moves.append([10,7])\n",
    "        if state[11] == 2 and state[6]== 1:\n",
    "            moves.append([11,6])\n",
    "\n",
    "        if state[4] == 2 and state[1]== 1:\n",
    "            moves.append([4,1])\n",
    "        if state[5] == 2 and state[0]== 1:\n",
    "            moves.append([5,0])\n",
    "        if state[5] == 2 and state[2]== 1:\n",
    "            moves.append([5,2])\n",
    "        if state[6] == 2 and state[1]== 1:\n",
    "            moves.append([6,1])\n",
    "        if state[6] == 2 and state[3]== 1:\n",
    "            moves.append([6,3])\n",
    "        if state[7] == 2 and state[2]== 1:\n",
    "            moves.append([7,2])\n",
    "            \n",
    "    return moves\n"
   ]
  },
  {
   "cell_type": "code",
   "execution_count": 60,
   "id": "feee4fda-881b-4578-9c70-13ef798673b8",
   "metadata": {},
   "outputs": [],
   "source": [
    "def update_state(state,player,move):\n",
    "    new_state=state\n",
    "    start,end = move\n",
    "    new_state[start]=0\n",
    "    new_state[end] = player\n",
    "    \n",
    "    return new_state"
   ]
  },
  {
   "cell_type": "code",
   "execution_count": 61,
   "id": "6c0c78a8-08bc-4568-b54a-37487c8149dd",
   "metadata": {},
   "outputs": [],
   "source": [
    "def show_state(state):\n",
    "    print(state)\n",
    "        "
   ]
  },
  {
   "cell_type": "code",
   "execution_count": 62,
   "id": "99c65d97-dde9-4f52-8c75-ddb1d25ce833",
   "metadata": {},
   "outputs": [],
   "source": [
    "def win_status(state,player):\n",
    "#if there are no possible moves for player2, player1 wins\n",
    "#if there are no possible moves for player1, player2 wins\n",
    "#no way you can lose on your turn\n",
    "# no stalemate\n",
    "    if player==1:\n",
    "        player=2\n",
    "    else:\n",
    "        player=1        \n",
    "    if state[0] == 2:\n",
    "        return 'win'\n",
    "    if state[1] == 2:\n",
    "        return 'win'\n",
    "    if state[2] == 2:\n",
    "        return 'win'\n",
    "    if state[3] == 2:\n",
    "        return 'win'\n",
    "    if state[12] == 1:\n",
    "        return 'win'\n",
    "    if state[13] == 1:\n",
    "        return 'win'\n",
    "    if state[14] == 1:\n",
    "        return 'win'\n",
    "    if state[15] == 1:\n",
    "        return 'win'\n",
    "    if not valid_moves(state,player):\n",
    "        return 'win'\n",
    "    #if not valid_moves(state,player):\n",
    "        #return 'win'"
   ]
  },
  {
   "cell_type": "code",
   "execution_count": 63,
   "id": "98389f6e-a0da-4c7d-bfd8-f7119c4997b6",
   "metadata": {},
   "outputs": [],
   "source": [
    "def random_move(state,player):    \n",
    "    moves=valid_moves(state,player)\n",
    "    return random.choice(moves)\n",
    " \n",
    "random_agent=Agent(random_move) "
   ]
  },
  {
   "cell_type": "code",
   "execution_count": 76,
   "id": "a320f67d-685f-4745-b496-2868fe49eb75",
   "metadata": {},
   "outputs": [],
   "source": [
    "from Game.minimax import *\n",
    "def minimax_move(state,player):\n",
    "    values,moves=minimax_values(state,player,display=True)#set max depth\n",
    "    \n",
    "    return top_choice(moves,values)\n",
    "    \n",
    "    \n",
    "    return (N_player-N_other)/(N_player+N_other)\n",
    "    \n",
    "minimax_agent=Agent(minimax_move)"
   ]
  },
  {
   "cell_type": "code",
   "execution_count": 64,
   "id": "ebd9a29d-44c9-48b1-ac1b-097843575a14",
   "metadata": {},
   "outputs": [],
   "source": [
    "def Q_move(state,player,info):\n",
    "    Q=info.Q\n",
    "    last_state=info.last_state\n",
    "    last_action=info.last_action\n",
    "    learning=info.learning\n",
    "    \n",
    "    α=info.α  # learning rate\n",
    "    ϵ=info.ϵ  # how often to take a random move\n",
    "    γ=info.γ  # memory constant -- how quickly does the table update back in time (earlier in the game)\n",
    "    \n",
    "    # \\alpha <hit tab>    α\n",
    "    # \\epsilon <hit tab>  ϵ\n",
    "    # \\gamma <hit tab>    γ\n",
    "    \n",
    "    if state not in Q:\n",
    "        actions=valid_moves(state,player)\n",
    "        Q[state]=Table()\n",
    "        for action in actions:\n",
    "            Q[state][action]=0  # initial value of table\n",
    "    \n",
    "    if learning:\n",
    "        if random.random()<ϵ:  # take a random move occasionally to explore the environment\n",
    "            move=random_move(state,player)\n",
    "        else:\n",
    "            move=top_choice(Q[state])\n",
    "    else:\n",
    "        move=top_choice(Q[state])\n",
    "    \n",
    "    if not last_action is None:  # not the first move\n",
    "        reward=0\n",
    "        \n",
    "        # learn\n",
    "        if learning:\n",
    "            Q[last_state][last_action]+=α*(reward +\n",
    "                        γ*max([Q[state][a] for a in Q[state]]) - Q[last_state][last_action])\n",
    "    \n",
    "    return move"
   ]
  },
  {
   "cell_type": "code",
   "execution_count": 65,
   "id": "b8fe3fc0-c5b9-4fa6-a495-e7b440afd032",
   "metadata": {},
   "outputs": [],
   "source": [
    "def Q_after(status,player,info):\n",
    "    Q=info.Q\n",
    "    last_state=info.last_state\n",
    "    last_action=info.last_action\n",
    "    learning=info.learning\n",
    "    \n",
    "    α=info.α  # learning rate\n",
    "    ϵ=info.ϵ  # how often to take a random move\n",
    "    γ=info.γ  # memory constant -- how quickly does the table update back in time (earlier in the game)\n",
    "    \n",
    "    # \\alpha <hit tab>    α\n",
    "    # \\epsilon <hit tab>  ϵ\n",
    "    # \\gamma <hit tab>    γ\n",
    "\n",
    "    if status=='lose':\n",
    "        reward=-1\n",
    "    elif status=='win':\n",
    "        reward=1\n",
    "    elif status=='stalemate':\n",
    "        reward=.5 # value stalemate a little closer to a win\n",
    "    else:\n",
    "        reward=0\n",
    "    \n",
    "    \n",
    "    if learning:\n",
    "        Q[last_state][last_action]+=α*(reward - Q[last_state][last_action])"
   ]
  },
  {
   "cell_type": "code",
   "execution_count": 66,
   "id": "29eb4da9-a817-4d50-9705-9c44056f6183",
   "metadata": {},
   "outputs": [],
   "source": [
    "Q1_agent=Agent(Q_move)\n",
    "Q1_agent.post=Q_after\n",
    "Q1_agent.Q=Table()  # makes an empty table\n",
    "Q1_agent.learning=True\n",
    "\n",
    "Q1_agent.α=0.3  # learning rate\n",
    "Q1_agent.ϵ=0.1  # how often to take a random move\n",
    "Q1_agent.γ=0.9  # memory constant -- how quickly does the table update back in time (earlier in the game)"
   ]
  },
  {
   "cell_type": "code",
   "execution_count": 67,
   "id": "d67062ab-e170-4f05-a17b-3c54df8226a2",
   "metadata": {
    "tags": []
   },
   "outputs": [],
   "source": [
    "Q2_agent=Agent(Q_move)\n",
    "Q2_agent.post=Q_after\n",
    "Q2_agent.Q=Table()  # makes an empty table\n",
    "Q2_agent.learning=True\n",
    "\n",
    "Q2_agent.α=0.3  # learning rate\n",
    "Q2_agent.ϵ=0.1  # how often to take a random move\n",
    "Q2_agent.γ=0.9  # memory constant -- how quickly does the table update back in time (earlier in the game)"
   ]
  },
  {
   "cell_type": "code",
   "execution_count": 77,
   "id": "14ae1d7b-ae42-45c1-9a60-476412aac207",
   "metadata": {
    "collapsed": true,
    "jupyter": {
     "outputs_hidden": true
    },
    "tags": []
   },
   "outputs": [
    {
     "name": "stdout",
     "output_type": "stream",
     "text": [
      "====\n",
      "Game  1\n",
      " 1  1  1  1 \n",
      " 0  0  0  0 \n",
      " 0  0  0  0 \n",
      " 2  2  2  2 \n",
      "\n",
      "Player 1 moves [0, 4]\n",
      " 0  1  1  1 \n",
      " 1  0  0  0 \n",
      " 0  0  0  0 \n",
      " 2  2  2  2 \n",
      "\n",
      "  Choice Time: 8.082887887954712 seconds \n",
      "Player 2 moves [12, 8]\n",
      " 0  1  1  1 \n",
      " 1  0  0  0 \n",
      " 2  0  0  0 \n",
      " 0  2  2  2 \n",
      "\n",
      "Player 1 moves [1, 5]\n",
      " 0  0  1  1 \n",
      " 1  1  0  0 \n",
      " 2  0  0  0 \n",
      " 0  2  2  2 \n",
      "\n",
      "  Choice Time: 1.8240666389465332 seconds \n",
      "Player 2 moves [14, 11]\n",
      " 0  0  1  1 \n",
      " 1  1  0  0 \n",
      " 2  0  0  2 \n",
      " 0  2  0  2 \n",
      "\n",
      "Player 1 moves [4, 9]\n",
      " 0  0  1  1 \n",
      " 0  1  0  0 \n",
      " 2  1  0  2 \n",
      " 0  2  0  2 \n",
      "\n",
      "  Choice Time: 0.19113993644714355 seconds \n",
      "Player 2 moves [11, 7]\n",
      " 0  0  1  1 \n",
      " 0  1  0  2 \n",
      " 2  1  0  0 \n",
      " 0  2  0  2 \n",
      "\n",
      "Player 1 moves [2, 7]\n",
      " 0  0  0  1 \n",
      " 0  1  0  1 \n",
      " 2  1  0  0 \n",
      " 0  2  0  2 \n",
      "\n",
      "  Choice Time: 0.07272934913635254 seconds \n",
      "Player 2 moves [13, 10]\n",
      " 0  0  0  1 \n",
      " 0  1  0  1 \n",
      " 2  1  2  0 \n",
      " 0  0  0  2 \n",
      "\n",
      "Player 1 moves [5, 10]\n",
      " 0  0  0  1 \n",
      " 0  0  0  1 \n",
      " 2  1  1  0 \n",
      " 0  0  0  2 \n",
      "\n",
      "  Choice Time: 0.016308307647705078 seconds \n",
      "Player 2 moves [8, 5]\n",
      " 0  0  0  1 \n",
      " 0  2  0  1 \n",
      " 0  1  1  0 \n",
      " 0  0  0  2 \n",
      "\n",
      "Player 1 moves [10, 13]\n",
      " 0  0  0  1 \n",
      " 0  2  0  1 \n",
      " 0  1  0  0 \n",
      " 0  1  0  2 \n",
      "\n",
      "Player  1 won.\n"
     ]
    },
    {
     "data": {
      "text/plain": [
       "[1]"
      ]
     },
     "execution_count": 77,
     "metadata": {},
     "output_type": "execute_result"
    }
   ],
   "source": [
    "g=Game(number_of_games=1)\n",
    "g.display=True\n",
    "g.run(Q1_agent,minimax_agent)"
   ]
  },
  {
   "cell_type": "code",
   "execution_count": 73,
   "id": "304fa5c5-6c5d-46bc-98fe-3396f8514d77",
   "metadata": {
    "tags": []
   },
   "outputs": [],
   "source": [
    "SaveTable(Q1_agent.Q,\"Q1_agent_table1.json\")"
   ]
  },
  {
   "cell_type": "code",
   "execution_count": 72,
   "id": "1476995b-cd4f-41c7-804d-483b78d8db94",
   "metadata": {},
   "outputs": [],
   "source": [
    "SaveTable(Q2_agent.Q,\"Q2_agent_table1.json\")"
   ]
  },
  {
   "cell_type": "markdown",
   "id": "a56a2d3e-36eb-41ee-b8e2-5f93481e2b80",
   "metadata": {},
   "source": [
    "Get Moves"
   ]
  },
  {
   "cell_type": "code",
   "execution_count": 12,
   "id": "9b37a408-9d78-441a-990b-26b85d63ad4d",
   "metadata": {
    "tags": []
   },
   "outputs": [],
   "source": [
    "def r_get_move(state,player):\n",
    "    return random_move(state,player)"
   ]
  },
  {
   "cell_type": "code",
   "execution_count": 74,
   "id": "ce8a0f8f-bf9c-4189-8c93-773148f84b22",
   "metadata": {},
   "outputs": [],
   "source": [
    "def get_move(state,player):\n",
    "    if player==2:\n",
    "        Q=LoadTable(\"Q2_agent_table.json\")\n",
    "    else:\n",
    "        Q=LoadTable(\"Q1_agent_table.json\")\n",
    "        \n",
    "    \n",
    "    if state not in Q:\n",
    "        return random_move(state,player)\n",
    "    else:\n",
    "        return top_choice(Q[state])"
   ]
  },
  {
   "cell_type": "code",
   "execution_count": 14,
   "id": "3d1263c9-c9b8-4f2b-be0f-a1ad0ff6bec7",
   "metadata": {},
   "outputs": [],
   "source": [
    "with open(\"gameboard.txt\",\"w\") as fid:\n",
    "    fid.write(\"\"\"\n",
    "2 0 2 0 \n",
    "0 2 0 0\n",
    "1 0 1 1\n",
    "0 1 0 0\n",
    "    \"\"\")"
   ]
  },
  {
   "cell_type": "code",
   "execution_count": 15,
   "id": "d5d0710b-bc3c-4dfe-b32b-6144d37215a3",
   "metadata": {},
   "outputs": [],
   "source": [
    "def read_state_from_file(filename='gameboard.txt'):\n",
    "    with open(filename) as fid:\n",
    "        text=fid.read()\n",
    "\n",
    "    text2=text.strip().split('\\n')\n",
    "    number_of_rows=len(text2)\n",
    "    number_of_cols=len(text2[0].split())\n",
    "    \n",
    "    b=Board(number_of_rows,number_of_cols)\n",
    "        \n",
    "    board=[int(v) for v in text.split()]\n",
    "    b.board=board\n",
    "    return b"
   ]
  },
  {
   "cell_type": "code",
   "execution_count": 22,
   "id": "d6d9bcff-d20b-4810-909e-292024a60b88",
   "metadata": {},
   "outputs": [
    {
     "data": {
      "text/plain": [
       " 1  1  1  0 \n",
       " 0  0  1  0 \n",
       " 0  0  2  0 \n",
       " 2  2  0  2 "
      ]
     },
     "execution_count": 22,
     "metadata": {},
     "output_type": "execute_result"
    }
   ],
   "source": [
    "read_state_from_file(filename='gameboard.txt')"
   ]
  },
  {
   "cell_type": "code",
   "execution_count": 23,
   "id": "2017ba3d-0cc9-4913-a739-a78e9ccfaea3",
   "metadata": {},
   "outputs": [
    {
     "data": {
      "text/plain": [
       " 1  1  1  0 \n",
       " 0  0  1  0 \n",
       " 0  0  2  0 \n",
       " 2  2  0  2 "
      ]
     },
     "execution_count": 23,
     "metadata": {},
     "output_type": "execute_result"
    }
   ],
   "source": [
    "state=read_state_from_file(filename='gameboard.txt')\n",
    "state"
   ]
  },
  {
   "cell_type": "code",
   "execution_count": 24,
   "id": "f50209e4-8747-44ff-8655-e031958d079e",
   "metadata": {},
   "outputs": [
    {
     "data": {
      "text/plain": [
       "[0, 4]"
      ]
     },
     "execution_count": 24,
     "metadata": {},
     "output_type": "execute_result"
    }
   ],
   "source": [
    "r_get_move(state,1)"
   ]
  },
  {
   "cell_type": "code",
   "execution_count": 51,
   "id": "fe0cc483-a444-4f6a-9c7e-54b598452b77",
   "metadata": {},
   "outputs": [
    {
     "data": {
      "text/plain": [
       "[13, 8]"
      ]
     },
     "execution_count": 51,
     "metadata": {},
     "output_type": "execute_result"
    }
   ],
   "source": [
    "move = get_move(state,2)   \n",
    "move"
   ]
  },
  {
   "cell_type": "code",
   "execution_count": 52,
   "id": "9f6d741c-5ddf-4293-baac-83dabe349698",
   "metadata": {},
   "outputs": [],
   "source": [
    "def print_make_move(move):\n",
    "    print(\"If I could move, I would do move: \",move)"
   ]
  },
  {
   "cell_type": "code",
   "execution_count": 53,
   "id": "8261e968-b004-4988-8d04-6b928d383794",
   "metadata": {},
   "outputs": [
    {
     "name": "stdout",
     "output_type": "stream",
     "text": [
      "If I could move, I would do move:  [13, 8]\n"
     ]
    }
   ],
   "source": [
    "print_make_move(move)"
   ]
  },
  {
   "cell_type": "code",
   "execution_count": 54,
   "id": "45200fc4-a4c3-4d86-8a4a-2d9c9f7ebe13",
   "metadata": {},
   "outputs": [],
   "source": [
    "def make_move(move):\n",
    "    print(\"Making move \",move)\n",
    "    \n",
    "    board=Board(4,4)  # just to get the conversion functions for free\n",
    "    \n",
    "    start,end=move\n",
    "    rs,cs=board.rc_from_index(start)  # convert to row, column\n",
    "    re,ce=board.rc_from_index(end)\n",
    "    \n",
    "    \n",
    "    length_column=4\n",
    "    length_row=4\n",
    "\n",
    "    movetype =ce-cs  # 0 for a forward move, +1 for a right-hand diagonal, -1 for left-hand diagonal\n",
    "    distance_to_column=length_column*(cs+1)\n",
    "    distance_to_row=((4-rs)+1)*length_row\n",
    "\n",
    "    movetype\n",
    "    distance_to_column\n",
    "    distance_to_row\n",
    "    \n",
    "    return movetype, distance_to_column, distance_to_row"
   ]
  },
  {
   "cell_type": "code",
   "execution_count": 55,
   "id": "fb10d088-ecc9-49a3-8604-1fa646ec3b80",
   "metadata": {},
   "outputs": [
    {
     "name": "stdout",
     "output_type": "stream",
     "text": [
      "Making move  [13, 8]\n"
     ]
    },
    {
     "data": {
      "text/plain": [
       "(-1, 8, 8)"
      ]
     },
     "execution_count": 55,
     "metadata": {},
     "output_type": "execute_result"
    }
   ],
   "source": [
    "make_move(move)"
   ]
  },
  {
   "cell_type": "code",
   "execution_count": null,
   "id": "56c89c69-1da7-4bbc-a072-f8145ec7cf58",
   "metadata": {},
   "outputs": [],
   "source": []
  }
 ],
 "metadata": {
  "kernelspec": {
   "display_name": "Python 3 (ipykernel)",
   "language": "python",
   "name": "python3"
  },
  "language_info": {
   "codemirror_mode": {
    "name": "ipython",
    "version": 3
   },
   "file_extension": ".py",
   "mimetype": "text/x-python",
   "name": "python",
   "nbconvert_exporter": "python",
   "pygments_lexer": "ipython3",
   "version": "3.9.12"
  }
 },
 "nbformat": 4,
 "nbformat_minor": 5
}
