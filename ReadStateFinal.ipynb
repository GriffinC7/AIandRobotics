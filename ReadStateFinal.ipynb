{
 "cells": [
  {
   "cell_type": "code",
   "execution_count": 1,
   "id": "9ebc5efc-3d8f-4f21-a48d-2559c2089e4b",
   "metadata": {},
   "outputs": [
    {
     "name": "stdout",
     "output_type": "stream",
     "text": [
      "Version:  0.2.41\n"
     ]
    }
   ],
   "source": [
    "from Game import *"
   ]
  },
  {
   "cell_type": "code",
   "execution_count": 2,
   "id": "21115d02-af1b-463d-85b1-728590ae4199",
   "metadata": {},
   "outputs": [
    {
     "name": "stdout",
     "output_type": "stream",
     "text": [
      "Version  1.0.6\n",
      "Version:  0.0.31\n"
     ]
    }
   ],
   "source": [
    "from classy import *"
   ]
  },
  {
   "cell_type": "code",
   "execution_count": 3,
   "id": "fab55528-7c4e-4a09-8330-8226c7e2e585",
   "metadata": {},
   "outputs": [],
   "source": [
    "def take_picture(fname):\n",
    "    pass\n",
    "\n",
    "def get_square(arr,index,shape,locations=None):\n",
    "    import json\n",
    "    \n",
    "    if locations is None:\n",
    "        with open('locations.json') as json_file:\n",
    "            locations = json.load(json_file)        \n",
    "    \n",
    "    try:\n",
    "        location=locations[index]\n",
    "    except IndexError:\n",
    "        print(\"locations.json file probably corrupt.\")\n",
    "        raise \n",
    "        \n",
    "    c,r=location\n",
    "    c1=int(c-shape[1]/2)\n",
    "    c2=int(c+shape[1]/2)\n",
    "    r1=int(r-shape[0]/2)\n",
    "    r2=int(r+shape[0]/2)\n",
    "\n",
    "    c2=c2+(shape[1]-(c2-c1))\n",
    "    r2=r2+(shape[0]-(r2-r1))\n",
    "\n",
    "    square=arr[r1:r2,c1:c2,:]\n",
    "    \n",
    "    return square"
   ]
  },
  {
   "cell_type": "code",
   "execution_count": 4,
   "id": "043e47e8-4c4a-41f7-b952-9b2f0e8ba928",
   "metadata": {},
   "outputs": [],
   "source": [
    "def read_state_from_file(filename='gameboard.txt'):\n",
    "    with open(filename) as fid:\n",
    "        text=fid.read()\n",
    "\n",
    "    text2=text.strip().split('\\n')\n",
    "    number_of_rows=len(text2)\n",
    "    number_of_cols=len(text2[0].split())\n",
    "    \n",
    "    b=Board(number_of_rows,number_of_cols)\n",
    "        \n",
    "    board=[int(v) for v in text.split()]\n",
    "    b.board=board\n",
    "    return b"
   ]
  },
  {
   "cell_type": "code",
   "execution_count": 5,
   "id": "8e851c66-67c2-445e-9838-b87cf89f157c",
   "metadata": {},
   "outputs": [
    {
     "data": {
      "text/plain": [
       " 1  1  1  1 \n",
       " 0  0  0  0 \n",
       " 0  0  0  0 \n",
       " 2  2  2  2 "
      ]
     },
     "execution_count": 5,
     "metadata": {},
     "output_type": "execute_result"
    }
   ],
   "source": [
    "read_state_from_file(filename='gameboard.txt')"
   ]
  },
  {
   "cell_type": "code",
   "execution_count": 6,
   "id": "ad98d1a3-c681-4ab2-b9f9-0e252e2f5ce7",
   "metadata": {},
   "outputs": [],
   "source": [
    "\n",
    "def read_state():\n",
    "    from pylab import imread,imsave\n",
    "    import os\n",
    "\n",
    "    # train the classifier\n",
    "    images=image.load_images('RotoPhotos2/squares/',delete_alpha=True)\n",
    "    shape=images.data[0].shape[:2]\n",
    "    data_train=data=image.images_to_vectors(images,verbose=True)  # train on all of them\n",
    "\n",
    "    classifier=kNearestNeighbor()\n",
    "    #classifier=NaiveBayes()\n",
    "    classifier.fit(data_train.vectors,data_train.targets)\n",
    "\n",
    "\n",
    "    # get the picture\n",
    "    take_picture('board1.jpg')\n",
    "    arr=imread('board1.jpg')\n",
    "\n",
    "\n",
    "    # slice the picture into squares of the right size\n",
    "    shape=data_train.shape[:2]\n",
    "    squares=[get_square(arr,i,shape) for i in range(16)]\n",
    "    test_images=image.array_to_image_struct(squares)\n",
    "\n",
    "    # get predictions\n",
    "    test_data=image.images_to_vectors(test_images)\n",
    "    predictions=classifier.predict(test_data.vectors)\n",
    "    \n",
    "    if not os.path.exists('images'):\n",
    "        os.mkdir('images')\n",
    "    if not os.path.exists('images/predicted'):\n",
    "        os.mkdir('images/predicted')\n",
    "    for i,(square,prediction) in enumerate(zip(squares,predictions)):\n",
    "        imsave('images/predicted/square %d predicted as %s.jpg' % (i,data_train.target_names[prediction]),square)\n",
    "\n",
    "    \n",
    "    # reconstruct the state from the predictions\n",
    "    state=Board(4,4)\n",
    "    for i in range(16):\n",
    "        color=data_train.target_names[predictions[i]]\n",
    "        if color==\"Nothing\":\n",
    "            state[i]=0\n",
    "        elif color==\"White\":\n",
    "            state[i]=1\n",
    "        elif color==\"Black\":\n",
    "            state[i]=2\n",
    "        else:\n",
    "            raise ValueError(\"You can't get there from here.\")\n",
    "\n",
    "    print(\"Current state is:\")\n",
    "    print(state)\n",
    "\n",
    "    x=input(\"\"\"\n",
    "    Hit return if this is correct, otherwise type a character \n",
    "    and the state will be read from current_board.txt.\"\"\")\n",
    "\n",
    "    if x:\n",
    "        state=read_state_from_file()\n",
    "\n",
    "    print(\"Using\")\n",
    "    print(state)\n",
    "\n",
    "    \n",
    "    return state"
   ]
  },
  {
   "cell_type": "code",
   "execution_count": 7,
   "id": "210fa43a-3d94-4420-b14d-bb80fda2c23f",
   "metadata": {},
   "outputs": [
    {
     "name": "stdout",
     "output_type": "stream",
     "text": [
      "[Black]: 20 files found\n",
      "[White]: 20 files found\n",
      "[Nothing]: 40 files found\n",
      "80 vectors of length 43200\n",
      "Feature names: 'p0', 'p1', 'p2', 'p3', 'p4'  , ... ,  'p43195', 'p43196', 'p43197', 'p43198', 'p43199'  (43200 features)\n",
      "Target values given.\n",
      "Target names: 'Black', 'White', 'Nothing'\n",
      "Mean:  [60.25   49.8875 90.625  ... 64.125  52.925  94.6625]\n",
      "Median:  [60.  50.  90.  ... 62.5 52.5 93.5]\n",
      "Stddev:  [ 7.23792097  7.25602121 10.94003542 ...  7.16131098  8.33332917\n",
      " 11.51188923]\n",
      "16 vectors of length 43200\n",
      "Feature names: 'p0', 'p1', 'p2', 'p3', 'p4'  , ... ,  'p43195', 'p43196', 'p43197', 'p43198', 'p43199'  (43200 features)\n",
      "Target values given.\n",
      "Target names: 'None', 'None', 'None', 'None', 'None', 'None', 'None', 'None', 'None', 'None', 'None', 'None', 'None', 'None', 'None', 'None'\n",
      "Mean:  [54.25   42.625  73.8125 ... 58.     47.5625 79.5   ]\n",
      "Median:  [55.5 43.5 75.5 ... 55.5 43.  75.5]\n",
      "Stddev:  [ 6.41774883  5.58877223  8.0017088  ...  9.29381515 14.99570251\n",
      " 16.58312395]\n",
      "Current state is:\n",
      " 1  1  1  1 \n",
      " 0  0  0  0 \n",
      " 0  0  0  0 \n",
      " 2  2  2  2 \n",
      "\n"
     ]
    },
    {
     "name": "stdin",
     "output_type": "stream",
     "text": [
      "\n",
      "    Hit return if this is correct, otherwise type a character \n",
      "    and the state will be read from current_board.txt. \n"
     ]
    },
    {
     "name": "stdout",
     "output_type": "stream",
     "text": [
      "Using\n",
      " 1  1  1  1 \n",
      " 0  0  0  0 \n",
      " 0  0  0  0 \n",
      " 2  2  2  2 \n",
      "\n"
     ]
    }
   ],
   "source": [
    "state=read_state()"
   ]
  },
  {
   "cell_type": "code",
   "execution_count": null,
   "id": "9f76ba83-e8b3-48d4-9661-d69012c0ff64",
   "metadata": {},
   "outputs": [],
   "source": []
  },
  {
   "cell_type": "code",
   "execution_count": null,
   "id": "f5a91aff-93c6-4f48-9b5c-3ca1b12fc982",
   "metadata": {},
   "outputs": [],
   "source": []
  }
 ],
 "metadata": {
  "kernelspec": {
   "display_name": "Python 3 (ipykernel)",
   "language": "python",
   "name": "python3"
  },
  "language_info": {
   "codemirror_mode": {
    "name": "ipython",
    "version": 3
   },
   "file_extension": ".py",
   "mimetype": "text/x-python",
   "name": "python",
   "nbconvert_exporter": "python",
   "pygments_lexer": "ipython3",
   "version": "3.9.12"
  }
 },
 "nbformat": 4,
 "nbformat_minor": 5
}
