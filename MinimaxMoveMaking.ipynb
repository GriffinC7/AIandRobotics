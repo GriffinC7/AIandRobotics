{
 "cells": [
  {
   "cell_type": "code",
   "execution_count": 8,
   "id": "3f09bcfd-3007-487f-bd10-250ea811e5ea",
   "metadata": {},
   "outputs": [],
   "source": [
    "from Game import *"
   ]
  },
  {
   "cell_type": "code",
   "execution_count": 61,
   "id": "1e6f3968-6326-44ec-a109-ad52d338b2c7",
   "metadata": {},
   "outputs": [
    {
     "data": {
      "text/plain": [
       " 1  0  1  0 \n",
       " 0  1  0  1 \n",
       " 0  2  2  0 \n",
       " 2  0  0  2 "
      ]
     },
     "execution_count": 61,
     "metadata": {},
     "output_type": "execute_result"
    }
   ],
   "source": [
    "def initial_state():\n",
    "    state=Board(4,4)\n",
    "    state[0] = 1\n",
    "    state[2] = 1\n",
    "    state[5] = 1\n",
    "    state[7] = 1\n",
    "    state[9] = 2\n",
    "    state[12] = 2\n",
    "    state[10] = 2\n",
    "    state[15] = 2\n",
    "\n",
    "    return state\n",
    "initial_state()"
   ]
  },
  {
   "cell_type": "markdown",
   "id": "7fe70b27-df4f-4de7-a189-f42243b66794",
   "metadata": {
    "jupyter": {
     "source_hidden": true
    },
    "tags": []
   },
   "source": [
    "# valid moves \n",
    "def valid_moves(state,player):\n",
    "    emptySquare = 0\n",
    "    player1 = 1\n",
    "    player2 = 2\n",
    "    \n",
    "    moves = []\n",
    "    if player== 1:\n",
    "        if state[0] == 1 and state[4]== 0:\n",
    "            moves.append([0,4])\n",
    "        if state[1] == 1 and state[5]== 0:\n",
    "            moves.append([1,5])\n",
    "        if state[2] == 1 and state[6]== 0:\n",
    "            moves.append([2,6])\n",
    "        if state[3] == 1 and state[7]== 0:\n",
    "            moves.append([3,7])    \n",
    "        if state[4] == 1 and state[8]== 0:\n",
    "            moves.append([4,8])\n",
    "        if state[5] == 1 and state[9]== 0:\n",
    "            moves.append([5,9])\n",
    "        if state[6] == 1 and state[10]== 0:\n",
    "            moves.append([6,10])\n",
    "        if state[7] == 1 and state[11]== 0:\n",
    "            moves.append([7,11])\n",
    "        if state[8] == 1 and state[12]== 0:\n",
    "            moves.append([8,12])\n",
    "        if state[9] == 1 and state[13]== 0:\n",
    "            moves.append([9,13])\n",
    "        if state[10] == 1 and state[14]== 0:\n",
    "            moves.append([10,14])\n",
    "        if state[11] == 1 and state[15]== 0:\n",
    "            moves.append([11,15])\n",
    "\n",
    "        if state[0] == 1 and state[5]== 0:\n",
    "            moves.append([0,5])\n",
    "        if state[1] == 1 and state[4]== 0:\n",
    "            moves.append([1,4])\n",
    "        if state[1] == 1 and state[6]== 0:\n",
    "            moves.append([1,6])\n",
    "        if state[2] == 1 and state[5]== 0:\n",
    "            moves.append([2,5])\n",
    "        if state[2] == 1 and state[7]== 0:\n",
    "            moves.append([2,7])\n",
    "        if state[3] == 1 and state[6]== 0:\n",
    "            moves.append([3,6])\n",
    "\n",
    "        if state[4] == 1 and state[9]== 0:\n",
    "            moves.append([4,9])\n",
    "        if state[5] == 1 and state[8]== 0:\n",
    "            moves.append([5,8])\n",
    "        if state[5] == 1 and state[10]== 0:\n",
    "            moves.append([5,10])\n",
    "        if state[6] == 1 and state[9]== 0:\n",
    "            moves.append([6,9])\n",
    "        if state[6] == 1 and state[11]== 0:\n",
    "            moves.append([6,11])\n",
    "        if state[7] == 1 and state[10]== 0:\n",
    "            moves.append([7,10])\n",
    "\n",
    "        if state[8] == 1 and state[13]== 0:\n",
    "            moves.append([8,13])\n",
    "        if state[9] == 1 and state[12]== 0:\n",
    "            moves.append([9,12])\n",
    "        if state[9] == 1 and state[14]== 0:\n",
    "            moves.append([9,14])\n",
    "        if state[10] == 1 and state[13]== 0:\n",
    "            moves.append([10,13])\n",
    "        if state[10] == 1 and state[15]== 0:\n",
    "            moves.append([10,15])\n",
    "        if state[11] == 1 and state[14]== 0:\n",
    "            moves.append([11,14])\n",
    "\n",
    "        if state[0] == 1 and state[5]== 2:\n",
    "            moves.append([0,5])\n",
    "        if state[1] == 1 and state[4]== 2:\n",
    "            moves.append([1,4])\n",
    "        if state[1] == 1 and state[6]== 2:\n",
    "            moves.append([1,6])\n",
    "        if state[2] == 1 and state[5]== 2:\n",
    "            moves.append([2,5])\n",
    "        if state[2] == 1 and state[7]== 2:\n",
    "            moves.append([2,7])\n",
    "        if state[3] == 1 and state[6]== 2:\n",
    "            moves.append([3,6])\n",
    "\n",
    "        if state[4] == 1 and state[9]== 2:\n",
    "            moves.append([4,9])\n",
    "        if state[5] == 1 and state[8]== 2:\n",
    "            moves.append([5,8])\n",
    "        if state[5] == 1 and state[10]== 2:\n",
    "            moves.append([5,10])\n",
    "        if state[6] == 1 and state[9]== 2:\n",
    "            moves.append([6,9])\n",
    "        if state[6] == 1 and state[11]== 2:\n",
    "            moves.append([6,11])\n",
    "        if state[7] == 1 and state[10]== 2:\n",
    "            moves.append([7,10])\n",
    "\n",
    "        if state[8] == 1 and state[13]== 2:\n",
    "            moves.append([8,13])\n",
    "        if state[9] == 1 and state[12]== 2:\n",
    "            moves.append([9,12])\n",
    "        if state[9] == 1 and state[14]== 2:\n",
    "            moves.append([9,14])\n",
    "        if state[10] == 1 and state[13]== 2:\n",
    "            moves.append([10,13])\n",
    "        if state[10] == 1 and state[15]== 2:\n",
    "            moves.append([10,15])\n",
    "        if state[11] == 1 and state[14]== 2:\n",
    "            moves.append([11,14])\n",
    "\n",
    "    if player== 2:\n",
    "        if state[12] == 2 and state[8]== 0:\n",
    "            moves.append([12,8])\n",
    "        if state[13] == 2 and state[9]== 0:\n",
    "            moves.append([13,9])\n",
    "        if state[14] == 2 and state[10]== 0:\n",
    "            moves.append([14,10])\n",
    "        if state[15] == 2 and state[11]== 0:\n",
    "            moves.append([15,11])    \n",
    "        if state[8] == 2 and state[4]== 0:\n",
    "            moves.append([8,4])\n",
    "        if state[9] == 2 and state[5]== 0:\n",
    "            moves.append([9,5])\n",
    "        if state[10] == 2 and state[6]== 0:\n",
    "            moves.append([10,6])\n",
    "        if state[11] == 2 and state[7]== 0:\n",
    "            moves.append([11,7])\n",
    "        if state[4] == 2 and state[0]== 0:\n",
    "            moves.append([4,0])\n",
    "        if state[5] == 2 and state[1]== 0:\n",
    "            moves.append([5,1])\n",
    "        if state[6] == 2 and state[2]== 0:\n",
    "            moves.append([6,2])\n",
    "        if state[7] == 2 and state[3]== 0:\n",
    "            moves.append([7,3])\n",
    "\n",
    "        if state[12] == 2 and state[9]== 0:\n",
    "            moves.append([12,9])\n",
    "        if state[13] == 2 and state[8]== 0:\n",
    "            moves.append([13,8])\n",
    "        if state[13] == 2 and state[10]== 0:\n",
    "            moves.append([13,10])\n",
    "        if state[14] == 2 and state[9]== 0:\n",
    "            moves.append([14,9])\n",
    "        if state[14] == 2 and state[11]== 0:\n",
    "            moves.append([14,11])\n",
    "        if state[15] == 2 and state[10]== 0:\n",
    "            moves.append([15,10])\n",
    "\n",
    "        if state[8] == 2 and state[5]== 0:\n",
    "            moves.append([8,5])\n",
    "        if state[9] == 2 and state[4]== 0:\n",
    "            moves.append([9,4])\n",
    "        if state[9] == 2 and state[6]== 0:\n",
    "            moves.append([9,6])\n",
    "        if state[10] == 2 and state[5]== 0:\n",
    "            moves.append([10,5])\n",
    "        if state[10] == 2 and state[7]== 0:\n",
    "            moves.append([10,7])\n",
    "        if state[11] == 2 and state[6]== 0:\n",
    "            moves.append([11,6])\n",
    "\n",
    "        if state[4] == 2 and state[1]== 0:\n",
    "            moves.append([4,1])\n",
    "        if state[5] == 2 and state[0]== 0:\n",
    "            moves.append([5,0])\n",
    "        if state[5] == 2 and state[2]== 0:\n",
    "            moves.append([5,2])\n",
    "        if state[6] == 2 and state[1]== 0:\n",
    "            moves.append([6,1])\n",
    "        if state[6] == 2 and state[3]== 0:\n",
    "            moves.append([6,3])\n",
    "        if state[7] == 2 and state[2]== 0:\n",
    "            moves.append([7,2])\n",
    "\n",
    "        if state[12] == 2 and state[9]== 1:\n",
    "            moves.append([12,9])\n",
    "        if state[13] == 2 and state[8]== 1:\n",
    "            moves.append([13,8])\n",
    "        if state[13] == 2 and state[10]== 1:\n",
    "            moves.append([13,10])\n",
    "        if state[14] == 2 and state[9]== 1:\n",
    "            moves.append([14,9])\n",
    "        if state[14] == 2 and state[11]== 1:\n",
    "            moves.append([14,11])\n",
    "        if state[15] == 2 and state[10]== 1:\n",
    "            moves.append([15,10])\n",
    "\n",
    "        if state[8] == 2 and state[5]== 1:\n",
    "            moves.append([8,5])\n",
    "        if state[9] == 2 and state[4]== 1:\n",
    "            moves.append([9,4])\n",
    "        if state[9] == 2 and state[6]== 1:\n",
    "            moves.append([9,6])\n",
    "        if state[10] == 2 and state[5]== 1:\n",
    "            moves.append([10,5])\n",
    "        if state[10] == 2 and state[7]== 1:\n",
    "            moves.append([10,7])\n",
    "        if state[11] == 2 and state[6]== 1:\n",
    "            moves.append([11,6])\n",
    "\n",
    "        if state[4] == 2 and state[1]== 1:\n",
    "            moves.append([4,1])\n",
    "        if state[5] == 2 and state[0]== 1:\n",
    "            moves.append([5,0])\n",
    "        if state[5] == 2 and state[2]== 1:\n",
    "            moves.append([5,2])\n",
    "        if state[6] == 2 and state[1]== 1:\n",
    "            moves.append([6,1])\n",
    "        if state[6] == 2 and state[3]== 1:\n",
    "            moves.append([6,3])\n",
    "        if state[7] == 2 and state[2]== 1:\n",
    "            moves.append([7,2])\n",
    "            \n",
    "    return moves"
   ]
  },
  {
   "cell_type": "code",
   "execution_count": 11,
   "id": "33f37e9b-54fb-472c-987d-f3f7a1b86d4b",
   "metadata": {
    "jupyter": {
     "source_hidden": true
    },
    "tags": []
   },
   "outputs": [],
   "source": [
    "def update_state(state,player,move):\n",
    "    new_state=state\n",
    "    start,end = move\n",
    "    new_state[start]=0\n",
    "    new_state[end] = player\n",
    "    \n",
    "    return new_state"
   ]
  },
  {
   "cell_type": "code",
   "execution_count": 12,
   "id": "875bcae1-e072-4a1f-85fa-4c17ed37a9bc",
   "metadata": {
    "jupyter": {
     "source_hidden": true
    },
    "tags": []
   },
   "outputs": [],
   "source": [
    "def show_state(state):\n",
    "    print(state)\n",
    "        \n",
    "def win_status(state,player):\n",
    "#if there are no possible moves for player2, player1 wins\n",
    "#if there are no possible moves for player1, player2 wins\n",
    "#no way you can lose on your turn\n",
    "# no stalemate\n",
    "    if player==1:\n",
    "        player=2\n",
    "    else:\n",
    "        player=1        \n",
    "    if state[0] == 2:\n",
    "        return 'win'\n",
    "    if state[1] == 2:\n",
    "        return 'win'\n",
    "    if state[2] == 2:\n",
    "        return 'win'\n",
    "    if state[3] == 2:\n",
    "        return 'win'\n",
    "    if state[12] == 1:\n",
    "        return 'win'\n",
    "    if state[13] == 1:\n",
    "        return 'win'\n",
    "    if state[14] == 1:\n",
    "        return 'win'\n",
    "    if state[15] == 1:\n",
    "        return 'win'\n",
    "    if not valid_moves(state,player):\n",
    "        return 'win'\n",
    "    #if not valid_moves(state,player):\n",
    "        #return 'win'"
   ]
  },
  {
   "cell_type": "code",
   "execution_count": null,
   "id": "30fb921c-3a5f-4648-b62d-51e143073f99",
   "metadata": {},
   "outputs": [],
   "source": []
  },
  {
   "cell_type": "code",
   "execution_count": 23,
   "id": "726bbdff-9a4e-4d64-83f1-db09a282462b",
   "metadata": {},
   "outputs": [],
   "source": [
    "from Game.minimax import *\n",
    "def minimax_move(state,player):\n",
    "    values,moves=minimax_values(state,player,maxdepth=100,display=True,cache=False)#set max depth\n",
    "    \n",
    "    return top_choice(moves,values)\n",
    "minimax_agent=Agent(minimax_move)"
   ]
  },
  {
   "cell_type": "code",
   "execution_count": 22,
   "id": "084e8fd1-7287-4fc8-8f99-f0c389795642",
   "metadata": {},
   "outputs": [
    {
     "name": "stdout",
     "output_type": "stream",
     "text": [
      " 1  1  1  1 \n",
      " 0  0  0  0 \n",
      " 0  0  0  0 \n",
      " 2  2  2  2 \n",
      "\n",
      "  Choice Time: 22.280714750289917 seconds \n"
     ]
    }
   ],
   "source": [
    "1st move\n",
    "state=initial_state()\n",
    "print(state)\n",
    "player=1\n",
    "values=minimax_values(state,player,display=True)"
   ]
  },
  {
   "cell_type": "code",
   "execution_count": 60,
   "id": "af46885e-cd68-46fd-9c3a-18718937bc18",
   "metadata": {},
   "outputs": [
    {
     "name": "stdout",
     "output_type": "stream",
     "text": [
      " 1  0  1  1 \n",
      " 0  1  0  0 \n",
      " 0  0  2  0 \n",
      " 2  2  0  2 \n",
      "\n",
      "  Choice Time: 2.716590642929077 seconds \n"
     ]
    }
   ],
   "source": [
    "state=initial_state()\n",
    "print(state)\n",
    "player=1\n",
    "values=minimax_values(state,player,display=True)"
   ]
  },
  {
   "cell_type": "code",
   "execution_count": 62,
   "id": "df827e3b-8287-490e-90c6-cb1ea3cda0a3",
   "metadata": {},
   "outputs": [
    {
     "name": "stdout",
     "output_type": "stream",
     "text": [
      " 1  0  1  0 \n",
      " 0  1  0  1 \n",
      " 0  2  2  0 \n",
      " 2  0  0  2 \n",
      "\n",
      "  Choice Time: 0.0 seconds \n"
     ]
    }
   ],
   "source": [
    "state=initial_state()\n",
    "print(state)\n",
    "player=1\n",
    "values=minimax_values(state,player,display=True)"
   ]
  },
  {
   "cell_type": "code",
   "execution_count": 58,
   "id": "d7eeacc8-a9e4-4582-951d-a070b1e6b673",
   "metadata": {},
   "outputs": [
    {
     "name": "stdout",
     "output_type": "stream",
     "text": [
      " 1  0  1  0 \n",
      " 0  1  0  1 \n",
      " 0  2  2  0 \n",
      " 2  0  0  2 \n",
      "\n",
      "  Choice Time: 0.45631980895996094 seconds \n"
     ]
    }
   ],
   "source": [
    "state=initial_state()\n",
    "print(state)\n",
    "player=1\n",
    "values=minimax_values(state,player,display=True)"
   ]
  },
  {
   "cell_type": "code",
   "execution_count": 50,
   "id": "8be1136e-fec0-4dcb-bd63-0cbe7eb628aa",
   "metadata": {},
   "outputs": [
    {
     "name": "stdout",
     "output_type": "stream",
     "text": [
      " 1  0  0  0 \n",
      " 0  1  1  0 \n",
      " 2  2  1  2 \n",
      " 0  0  0  0 \n",
      "\n",
      "  Choice Time: 0.022249698638916016 seconds \n"
     ]
    }
   ],
   "source": [
    "state=initial_state()\n",
    "print(state)\n",
    "player=1\n",
    "values=minimax_values(state,player,display=True)"
   ]
  },
  {
   "cell_type": "code",
   "execution_count": 33,
   "id": "9955b919-c222-4f65-b2f2-3da477339f50",
   "metadata": {},
   "outputs": [
    {
     "name": "stdout",
     "output_type": "stream",
     "text": [
      " 0  0  0  0 \n",
      " 0  1  0  1 \n",
      " 0  2  0  2 \n",
      " 0  0  0  0 \n",
      "\n",
      "  Choice Time: 0.005315065383911133 seconds \n"
     ]
    }
   ],
   "source": [
    "state=initial_state()\n",
    "print(state)\n",
    "player=1\n",
    "values=minimax_values(state,player,display=True)"
   ]
  },
  {
   "cell_type": "code",
   "execution_count": null,
   "id": "10bbe71f-20f7-4a93-bf64-183fc0730cdd",
   "metadata": {},
   "outputs": [],
   "source": []
  },
  {
   "cell_type": "code",
   "execution_count": null,
   "id": "7260a802-7739-4e83-b3b1-998e9a527cb7",
   "metadata": {},
   "outputs": [],
   "source": []
  },
  {
   "cell_type": "code",
   "execution_count": 36,
   "id": "2893a52e-9536-4e75-8f85-92cc4e77a165",
   "metadata": {},
   "outputs": [],
   "source": [
    "x=[0,1,2,3,4,5]\n",
    "y=[22.28, 5.137, 0.3774712085723877, 0.17607617378234863, 0.043483734130859375,\n",
    "  0.005315065383911133,0.001041412353515625]"
   ]
  },
  {
   "cell_type": "code",
   "execution_count": 37,
   "id": "1ebcf5e9-0067-43e4-b10b-c8b0fa464b8a",
   "metadata": {},
   "outputs": [],
   "source": [
    "%matplotlib inline\n",
    "from pylab import *"
   ]
  },
  {
   "cell_type": "code",
   "execution_count": 38,
   "id": "89501316-e67d-43d9-bb53-7a84148ca7e9",
   "metadata": {},
   "outputs": [
    {
     "data": {
      "text/plain": [
       "[<matplotlib.lines.Line2D at 0x188f7794f10>]"
      ]
     },
     "execution_count": 38,
     "metadata": {},
     "output_type": "execute_result"
    },
    {
     "data": {
      "image/png": "[encoded data removed]",
      "text/plain": [
       "<Figure size 432x288 with 1 Axes>"
      ]
     },
     "metadata": {
      "needs_background": "light"
     },
     "output_type": "display_data"
    }
   ],
   "source": [
    "plot(x,y,'-o')"
   ]
  },
  {
   "cell_type": "code",
   "execution_count": 39,
   "id": "3ccc7c2f-19ab-4b86-a379-73f8563677f3",
   "metadata": {},
   "outputs": [
    {
     "data": {
      "text/plain": [
       "[<matplotlib.lines.Line2D at 0x188f7893760>]"
      ]
     },
     "execution_count": 39,
     "metadata": {},
     "output_type": "execute_result"
    },
    {
     "data": {
      "image/png": "[encoded data removed]",
      "text/plain": [
       "<Figure size 432x288 with 1 Axes>"
      ]
     },
     "metadata": {
      "needs_background": "light"
     },
     "output_type": "display_data"
    }
   ],
   "source": [
    "semilogy(x,y,'-o')"
   ]
  },
  {
   "cell_type": "code",
   "execution_count": null,
   "id": "5deb3dba-3885-4744-8655-23ce012308f6",
   "metadata": {},
   "outputs": [],
   "source": [
    "z"
   ]
  }
 ],
 "metadata": {
  "kernelspec": {
   "display_name": "Python 3 (ipykernel)",
   "language": "python",
   "name": "python3"
  },
  "language_info": {
   "codemirror_mode": {
    "name": "ipython",
    "version": 3
   },
   "file_extension": ".py",
   "mimetype": "text/x-python",
   "name": "python",
   "nbconvert_exporter": "python",
   "pygments_lexer": "ipython3",
   "version": "3.9.12"
  }
 },
 "nbformat": 4,
 "nbformat_minor": 5
}
